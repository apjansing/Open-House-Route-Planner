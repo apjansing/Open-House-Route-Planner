{
 "cells": [
  {
   "cell_type": "code",
   "execution_count": 1,
   "metadata": {},
   "outputs": [],
   "source": [
    "import arcgis.network as network\n",
    "import arcgis.geocoding as geocoding\n",
    "\n",
    "from arcgis.gis import *\n",
    "from arcgis.geometry import Point\n",
    "from arcgis.geocoding import geocode, reverse_geocode\n",
    "from arcgis.features.feature import FeatureSet, Feature\n",
    "\n",
    "\n",
    "import json\n",
    "import datetime\n",
    "import numpy as np\n",
    "import pandas as pd\n",
    "from copy import deepcopy\n",
    "from numpy.linalg import eig\n",
    "from IPython.display import HTML\n",
    "\n",
    "import os\n",
    "username = os.environ['ESRI_USERNAME']\n",
    "password = os.environ['ESRI_PASSWORD']\n",
    "\n",
    "my_gis = GIS('https://www.arcgis.com', username, password)"
   ]
  },
  {
   "cell_type": "code",
   "execution_count": 2,
   "metadata": {},
   "outputs": [
    {
     "data": {
      "text/plain": [
       "'https://route.arcgis.com/arcgis/rest/services/World/Route/NAServer/Route_World'"
      ]
     },
     "execution_count": 2,
     "metadata": {},
     "output_type": "execute_result"
    }
   ],
   "source": [
    "route_service_url = my_gis.properties.helperServices.route.url\n",
    "route_service_url"
   ]
  },
  {
   "cell_type": "code",
   "execution_count": 3,
   "metadata": {},
   "outputs": [
    {
     "data": {
      "text/plain": [
       "<RouteLayer url:\"https://route.arcgis.com/arcgis/rest/services/World/Route/NAServer/Route_World\">"
      ]
     },
     "execution_count": 3,
     "metadata": {},
     "output_type": "execute_result"
    }
   ],
   "source": [
    "route_service = network.RouteLayer(route_service_url, gis=my_gis)\n",
    "route_service"
   ]
  },
  {
   "cell_type": "code",
   "execution_count": 20,
   "metadata": {},
   "outputs": [
    {
     "data": {
      "text/plain": [
       "'<Item title:\"ArcGIS Online Directions and Routing Services Coverage\" type:Web Map owner:esri>'"
      ]
     },
     "execution_count": 20,
     "metadata": {},
     "output_type": "execute_result"
    }
   ],
   "source": [
    "str(my_gis.content.search('title: ArcGIS Online Directions and Routing Services Coverage type:Web Map owner:esri',\n",
    "                      item_type='Web Map', outside_org=True)[0])\n"
   ]
  },
  {
   "cell_type": "code",
   "execution_count": 19,
   "metadata": {},
   "outputs": [
    {
     "data": {
      "text/plain": [
       "1"
      ]
     },
     "execution_count": 19,
     "metadata": {},
     "output_type": "execute_result"
    }
   ],
   "source": [
    "my_gis.content.search('title: ArcGIS Online Directions and Routing Services Coverage type:Web Map owner:esri',\n",
    "                      item_type='Web Map', outside_org=True)\n"
   ]
  },
  {
   "cell_type": "code",
   "execution_count": 5,
   "metadata": {},
   "outputs": [
    {
     "data": {
      "text/html": [
       "<div class=\"item_container\" style=\"height: auto; overflow: hidden; border: 1px solid #cfcfcf; border-radius: 2px; background: #f6fafa; line-height: 1.21429em; padding: 10px;\">\n",
       "                    <div class=\"item_left\" style=\"width: 210px; float: left;\">\n",
       "                       <a href='https://alex-jansing.maps.arcgis.com/home/item.html?id=bbdcd78953e5439985004023c8eda03d' target='_blank'>\n",
       "                        <img src='data:image/png;base64,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' width='200' height='133' class=\"itemThumbnail\">\n",
       "                       </a>\n",
       "                    </div>\n",
       "\n",
       "                    <div class=\"item_right\"     style=\"float: none; width: auto; overflow: hidden;\">\n",
       "                        <a href='https://alex-jansing.maps.arcgis.com/home/item.html?id=bbdcd78953e5439985004023c8eda03d' target='_blank'><b>World Traffic Map</b>\n",
       "                        </a>\n",
       "                        <br/>This map features historical and near real-time traffic information for different regions in the world. The data is updated every 5 minutes. This map requires an ArcGIS Online organizational subscription.<img src='https://alex-jansing.maps.arcgis.com/home/js/jsapi/esri/css/images/item_type_icons/maps16.png' style=\"vertical-align:middle;\">Web Map by esri\n",
       "                        <br/>Last Modified: October 22, 2018\n",
       "                        <br/>5 comments, 89,275 views\n",
       "                    </div>\n",
       "                </div>\n",
       "                "
      ],
      "text/plain": [
       "<Item title:\"World Traffic Map\" type:Web Map owner:esri>"
      ]
     },
     "execution_count": 5,
     "metadata": {},
     "output_type": "execute_result"
    }
   ],
   "source": [
    "my_gis.content.search('title: World Traffic Map type:Web Map owner:esri',\n",
    "                      item_type='Web Map', outside_org=True)[0]"
   ]
  },
  {
   "cell_type": "code",
   "execution_count": 6,
   "metadata": {},
   "outputs": [
    {
     "data": {
      "text/plain": [
       "40.55"
      ]
     },
     "execution_count": 6,
     "metadata": {},
     "output_type": "execute_result"
    }
   ],
   "source": [
    "route_layer = network.RouteLayer(route_service_url, gis=my_gis)\n",
    "start_time = int(datetime.datetime.now().timestamp() * 1000)\n",
    "\n",
    "my_point1 = geocode(address=\"235 Harrison St, Syracuse, NY 13202\", as_featureset=True).features[1].as_dict\n",
    "my_point2 = geocode(address=\"5659-crestwood-dr-verona-ny-13478\", as_featureset=True).features[0].as_dict\n",
    "\n",
    "result = route_layer.solve(stops='''%f,%f; %f,%f'''%(my_point1['geometry']['x'], \n",
    "                                                     my_point1['geometry']['y'],\n",
    "                                                     my_point2['geometry']['x'], \n",
    "                                                     my_point2['geometry']['y'],\n",
    "                                                    ),\n",
    "                           directions_language='en-US', return_routes=False,\n",
    "                           return_stops=False, return_directions=True,\n",
    "                           directions_length_units='esriNAUMiles',\n",
    "                           return_barriers=False, return_polygon_barriers=False,\n",
    "                           return_polyline_barriers=False, start_time=start_time,\n",
    "                           start_time_is_utc=True)\n",
    "\n",
    "\n",
    "records = []\n",
    "travel_time, time_counter = 0, 0\n",
    "distance, distance_counter = 0, 0\n",
    "\n",
    "for i in result['directions'][0]['features']:\n",
    "    time_of_day = datetime.datetime.fromtimestamp(i['attributes']['arriveTimeUTC'] / 1000).strftime('%H:%M:%S')\n",
    "    time_counter = i['attributes']['time']\n",
    "    distance_counter = i['attributes']['length']\n",
    "    travel_time += time_counter\n",
    "    distance += distance_counter\n",
    "    records.append( (time_of_day, i['attributes']['text'], \n",
    "                     round(travel_time, 2), round(distance, 2))  )\n",
    "    \n",
    "pd.set_option('display.max_colwidth', 100)\n",
    "df = pd.DataFrame.from_records(records, index=[i for i in range(1, len(records) + 1)], \n",
    "                               columns=['Time of day', 'Direction text', \n",
    "                                        'Duration (min)', 'Distance (miles)'])\n",
    "directions = HTML(df.to_html(index=False))\n",
    "records[-1][2]"
   ]
  },
  {
   "cell_type": "code",
   "execution_count": 7,
   "metadata": {},
   "outputs": [
    {
     "name": "stdout",
     "output_type": "stream",
     "text": [
      "Trip took 40.550000 minutes.\n"
     ]
    }
   ],
   "source": [
    "import json\n",
    "foo = json.loads(df.to_json(orient='index'))\n",
    "F = []\n",
    "for bar in foo:\n",
    "    F += [foo[bar]]\n",
    "# print(F)\n",
    "print('Trip took %f minutes.' % F[-1]['Duration (min)'])"
   ]
  },
  {
   "cell_type": "code",
   "execution_count": 17,
   "metadata": {
    "scrolled": true
   },
   "outputs": [
    {
     "data": {
      "text/plain": [
       "[{'Direction text': 'Start at Location 1',\n",
       "  'Distance (miles)': 0.0,\n",
       "  'Duration (min)': 0.0,\n",
       "  'Time of day': '00:31:40'},\n",
       " {'Direction text': 'Go south on Harrison Pl toward E Adams St',\n",
       "  'Distance (miles)': 0.0,\n",
       "  'Duration (min)': 0.04,\n",
       "  'Time of day': '00:31:40'},\n",
       " {'Direction text': 'Turn left on E Adams St',\n",
       "  'Distance (miles)': 0.4,\n",
       "  'Duration (min)': 1.33,\n",
       "  'Time of day': '00:31:43'},\n",
       " {'Direction text': 'Turn left on Almond St',\n",
       "  'Distance (miles)': 0.51,\n",
       "  'Duration (min)': 1.78,\n",
       "  'Time of day': '00:33:00'},\n",
       " {'Direction text': 'Bear left onto ramp and go on I-81 N toward I-690 W',\n",
       "  'Distance (miles)': 0.82,\n",
       "  'Duration (min)': 2.31,\n",
       "  'Time of day': '00:33:27'},\n",
       " {'Direction text': 'Take ramp on the right and go on I-690 E toward E Syracuse',\n",
       "  'Distance (miles)': 5.3,\n",
       "  'Duration (min)': 7.34,\n",
       "  'Time of day': '00:33:59'},\n",
       " {'Direction text': 'Take ramp on the left and go on I-481 N toward Thruway / I-90',\n",
       "  'Distance (miles)': 8.57,\n",
       "  'Duration (min)': 10.68,\n",
       "  'Time of day': '00:39:01'},\n",
       " {'Direction text': 'At exit 6 take ramp on the right to I-90 toward Thruway',\n",
       "  'Distance (miles)': 9.22,\n",
       "  'Duration (min)': 12.07,\n",
       "  'Time of day': '00:42:21'},\n",
       " {'Direction text': 'At fork keep left on I-90 E toward Albany',\n",
       "  'Distance (miles)': 33.47,\n",
       "  'Duration (min)': 35.33,\n",
       "  'Time of day': '00:43:44'},\n",
       " {'Direction text': 'Take ramp on the right to RT-365 E (State Route 365)',\n",
       "  'Distance (miles)': 34.04,\n",
       "  'Duration (min)': 36.86,\n",
       "  'Time of day': '01:07:00'},\n",
       " {'Direction text': 'At fork keep right',\n",
       "  'Distance (miles)': 34.27,\n",
       "  'Duration (min)': 37.23,\n",
       "  'Time of day': '01:08:32'},\n",
       " {'Direction text': 'Bear right on RT-365 E (State Route 365)',\n",
       "  'Distance (miles)': 35.1,\n",
       "  'Duration (min)': 38.41,\n",
       "  'Time of day': '01:08:54'},\n",
       " {'Direction text': 'Turn left on RT-31 (State Route 31)',\n",
       "  'Distance (miles)': 35.45,\n",
       "  'Duration (min)': 39.06,\n",
       "  'Time of day': '01:10:05'},\n",
       " {'Direction text': 'Make sharp right on Eastwood Dr',\n",
       "  'Distance (miles)': 35.49,\n",
       "  'Duration (min)': 39.23,\n",
       "  'Time of day': '01:10:44'},\n",
       " {'Direction text': 'Turn left on Fairlane Rd',\n",
       "  'Distance (miles)': 35.68,\n",
       "  'Duration (min)': 39.98,\n",
       "  'Time of day': '01:10:54'},\n",
       " {'Direction text': 'Turn left on Greenfield Rd',\n",
       "  'Distance (miles)': 35.73,\n",
       "  'Duration (min)': 40.16,\n",
       "  'Time of day': '01:11:39'},\n",
       " {'Direction text': 'Turn right on Crestwood Dr',\n",
       "  'Distance (miles)': 35.81,\n",
       "  'Duration (min)': 40.55,\n",
       "  'Time of day': '01:11:50'},\n",
       " {'Direction text': 'Finish at Location 2, on the left',\n",
       "  'Distance (miles)': 35.81,\n",
       "  'Duration (min)': 40.55,\n",
       "  'Time of day': '01:12:13'}]"
      ]
     },
     "execution_count": 17,
     "metadata": {},
     "output_type": "execute_result"
    }
   ],
   "source": [
    "F"
   ]
  },
  {
   "cell_type": "code",
   "execution_count": 2,
   "metadata": {},
   "outputs": [
    {
     "data": {
      "text/html": [
       "GIS @ <a href=\"https://www.arcgis.com\">https://www.arcgis.com</a>"
      ],
      "text/plain": [
       "<arcgis.gis.GIS at 0x7f69d62467f0>"
      ]
     },
     "execution_count": 2,
     "metadata": {},
     "output_type": "execute_result"
    }
   ],
   "source": [
    "dev_gis = GIS()\n",
    "dev_gis"
   ]
  },
  {
   "cell_type": "code",
   "execution_count": 54,
   "metadata": {},
   "outputs": [
    {
     "data": {
      "text/plain": [
       "{'checksum': 'MNe6AclluwE.',\n",
       " 'directions': [{'features': [{'attributes': {'ETA': 1549466936374,\n",
       "      'arriveTimeUTC': 1549484936374,\n",
       "      'length': 0,\n",
       "      'maneuverType': 'esriDMTDepart',\n",
       "      'text': 'Start at Location 1',\n",
       "      'time': 0},\n",
       "     'compressedGeometry': '+qsjm6-1vvvvtk+145jaft+0+0'},\n",
       "    {'attributes': {'ETA': 1549466936374,\n",
       "      'arriveTimeUTC': 1549484936374,\n",
       "      'length': 0.003863582287751003,\n",
       "      'maneuverType': 'esriDMTStraight',\n",
       "      'text': 'Go south on Harrison Pl toward E Adams St',\n",
       "      'time': 0.03730642565230262},\n",
       "     'compressedGeometry': '+qsjm6-1vvvvtk+145jaft+4m-1h3'},\n",
       "    {'attributes': {'ETA': 1549466938612,\n",
       "      'arriveTimeUTC': 1549484938612,\n",
       "      'length': 0.397207000780146,\n",
       "      'maneuverType': 'esriDMTTurnLeft',\n",
       "      'text': 'Turn left on E Adams St',\n",
       "      'time': 1.1960350829779398},\n",
       "     'compressedGeometry': '+qsjm8-1vvvvtm+145j91g+kto-8q+12md-8q+g7u+0+in9+qe+cci+hk+jhn+0+bqu-8q+cci-hk+b9a-8q+cld-hk+b9a+0+c3o-8q+bi5-8q+30u+0+26g+0+4uk+0'},\n",
       "    {'attributes': {'ETA': 1549467010374,\n",
       "      'arriveTimeUTC': 1549485010374,\n",
       "      'length': 0.1119541223854007,\n",
       "      'maneuverType': 'esriDMTTurnLeft',\n",
       "      'text': 'Turn left on Almond St',\n",
       "      'time': 0.3731771615815655},\n",
       "     'compressedGeometry': '+qsmh0-1vvvvue+145n1ni+hk+jqi+1c2+op8'},\n",
       "    {'attributes': {'ETA': 1549467032765,\n",
       "      'arriveTimeUTC': 1549485032765,\n",
       "      'length': 0.30698650306964415,\n",
       "      'maneuverType': 'esriDMTRampLeft',\n",
       "      'text': 'Bear left onto ramp and go on I-81 N toward I-690 W',\n",
       "      'time': 0.5629191814811866},\n",
       "     'compressedGeometry': '+qsmei-1vvvo75+145ob2e-30v+111k-8q+9bl-1c2+14bd-1tm+3rc+hk+8h8+8q+3rc+0+4d1+0+6sa-hk+9ta-1c2+5p2'},\n",
       "    {'attributes': {'ETA': 1549467066540,\n",
       "      'arriveTimeUTC': 1549485066540,\n",
       "      'length': 4.480255891705552,\n",
       "      'maneuverType': 'esriDMTRampRight',\n",
       "      'text': 'Take ramp on the right and go on I-690 E toward E Syracuse',\n",
       "      'time': 5.02730901641163},\n",
       "     'compressedGeometry': '+qsmbb-1vvvo8r+145s0o9-3rd+k3d-3rc+lff+446+9t9+ann+aet+rhc+92r+415i+2o4+14bc-hk+15nf-hk+4d9b+2fb+27an+ej3+k3c+5p3+13gv+ann+2iss+o7j+240u+fmc+1q3l+d72+psf+6an+396p+ogd+1ldr+i5m+12dm+b9b+a329+2100+2jnb+9kf+1m88-8q+755-8q+1g6c-57e+54mg-qe3+6nl1-ej4+7rni-gpk+1mpt-57f+1q3l-ann+nlv-6an+22tm-mrh'},\n",
       "    {'attributes': {'ETA': 1549467368179,\n",
       "      'arriveTimeUTC': 1549485368179,\n",
       "      'length': 3.2657211667656885,\n",
       "      'maneuverType': 'esriDMTRampLeft',\n",
       "      'text': 'Take ramp on the left and go on I-481 N toward Thruway / I-90',\n",
       "      'time': 3.305756645275764},\n",
       "     'compressedGeometry': '+qtkgf-1vvvvug+147acuj+2ctm-10h5+15op-5ge+o8e+1c3+139c+9c0+slk+fe3+j0p+j9k+9tl+inv+39s+gq7-qf+15op-6jp+143r-6jo+112p-4uq+ria-57k+r9g-13a+624-3im+nmp-esf+2ivp-2fd+ejl-fmt+338b-2o8+1ua1-hl+2uic-1c3+4nko+0+cls-8r+10pv-qf+5ger-hk+30g4+0+oq3+0+pbn+0+9c0'},\n",
       "    {'attributes': {'ETA': 1549467566524,\n",
       "      'arriveTimeUTC': 1549485566524,\n",
       "      'length': 0.6560468417229526,\n",
       "      'maneuverType': 'esriDMTRampRight',\n",
       "      'text': 'At exit 6 take ramp on the right to I-90 toward Thruway',\n",
       "      'time': 1.4283123696406848},\n",
       "     'compressedGeometry': '+qtmml-1vvvvue+148g9hg+5gf+130k+7e8+c48+lg8+bre+r9i+39s+1ji3-hl+hth+0+fvq+8r+7n2+8q+ao4+8r+7n2+0+qf3+0+1ht4-39t+i6c-c48+5pa-fmv'},\n",
       "    {'attributes': {'ETA': 1549467652223,\n",
       "      'arriveTimeUTC': 1549485652223,\n",
       "      'length': 24.24896083522824,\n",
       "      'maneuverType': 'esriDMTForkLeft',\n",
       "      'text': 'At fork keep left on I-90 E toward Albany',\n",
       "      'time': 23.39734838734345},\n",
       "     'compressedGeometry': '+qtpii-1vvu8h6+148l4oa+1ku-pbs+1c4-161r+13a-14cs-57l-bik-clv-7e9-fn0-1ku-lp5+ao5-44c+b10+7e8+ejn+1br5+cd4+2hsv+1to+21bg+1tp+16s9+1c4+7auo+6jq+fole-kls+72d6-3ri+cfab-75e+7hii-brf+2o7u-4d6+1ms4-312+cqbb-scv+v3hk-s44+f0ug+5pa+b4ra+1fmm+cvj1+1oh3+oec1+dp8+31jv-13a+57lg-k47+6rpd-s44+2ang-3rh+m6ud+4d6+10cbm-3928+3iea-1kv+2toe+b10+2opj+e22+2qnc+esi+26j5+h34+1ms4+i6e+325l+1anr+13r7+h35+r0r+cuo+8roo+41sg+34ts+10hb+2pst+fvq+fas6+1mag+7lvo+r0r+evr6+1uad+52ml+nmu+5i4q+1hkf+c674+3hjq+4eie+192t+bkr6+3c3b+g7hv+4m9h+37m4+ne3+30pg+9c2+2ccg-1kv+92lb-1269+5gon-lga+23qt-5gg'},\n",
       "    {'attributes': {'ETA': 1549469056064,\n",
       "      'arriveTimeUTC': 1549487056064,\n",
       "      'length': 0.5739654846613149,\n",
       "      'maneuverType': 'esriDMTRampRight',\n",
       "      'text': 'Take ramp on the right to RT-365 E (State Route 365)',\n",
       "      'time': 1.463190636902224},\n",
       "     'compressedGeometry': '+r307n-1vvtd02+14gcf92+1lqc-9mo+lkg-fq2+8j7-ho6-1cd-gbq-c6k-fh6-ppl-3s9-76r-ho-ho7-1cd-td2-1u5-reu-3ah-58m-8s-18g7-31l'},\n",
       "    {'attributes': {'ETA': 1549469143855,\n",
       "      'arriveTimeUTC': 1549487143855,\n",
       "      'length': 0.22818265843549312,\n",
       "      'maneuverType': 'esriDMTForkRight',\n",
       "      'text': 'At fork keep right',\n",
       "      'time': 0.39336948548727074},\n",
       "     'compressedGeometry': '+r2vd2-1vvu0vn+14g8hnv-11i7+63a-kpr+d19-8j7+f89+0+j4i+456+9vk'},\n",
       "    {'attributes': {'ETA': 1549469167457,\n",
       "      'arriveTimeUTC': 1549487167457,\n",
       "      'length': 0.8219603731549299,\n",
       "      'maneuverType': 'esriDMTBearRight',\n",
       "      'text': 'Bear right on RT-365 E (State Route 365)',\n",
       "      'time': 1.072112899252132},\n",
       "     'compressedGeometry': '+r2veq-1vvvvu3+14gajkf+234e+1u4l+1q8c+18g6+247v+13gc+4qpr+20te'},\n",
       "    {'attributes': {'ETA': 1549469231784,\n",
       "      'arriveTimeUTC': 1549487231784,\n",
       "      'length': 0.35226387089322486,\n",
       "      'maneuverType': 'esriDMTTurnLeft',\n",
       "      'text': 'Turn left on RT-31 (State Route 31)',\n",
       "      'time': 0.6654891975318454},\n",
       "     'compressedGeometry': '+r322t-1vvra34+14gkg22-13g+1cd-6tv+8j8-s9k+td4-nin+aq9-2psn+11r7'},\n",
       "    {'attributes': {'ETA': 1549469271714,\n",
       "      'arriveTimeUTC': 1549487271714,\n",
       "      'length': 0.04059429406413528,\n",
       "      'maneuverType': 'esriDMTSharpRight',\n",
       "      'text': 'Make sharp right on Eastwood Dr',\n",
       "      'time': 0.17273527348476517},\n",
       "     'compressedGeometry': '+r322t-1vvvvtl+14gn44b+edn+cfh'},\n",
       "    {'attributes': {'ETA': 1549469282078,\n",
       "      'arriveTimeUTC': 1549487282078,\n",
       "      'length': 0.1946883675131872,\n",
       "      'maneuverType': 'esriDMTTurnLeft',\n",
       "      'text': 'Turn left on Fairlane Rd',\n",
       "      'time': 1.0559860537615653},\n",
       "     'compressedGeometry': '+r31tk-1vvv50p+14gn9g2-qt7+qkc+dj2+ia0+hfb+k84'},\n",
       "    {'attributes': {'ETA': 1549469345437,\n",
       "      'arriveTimeUTC': 1549487345437,\n",
       "      'length': 0.04491399290434117,\n",
       "      'maneuverType': 'esriDMTTurnLeft',\n",
       "      'text': 'Turn left on Greenfield Rd',\n",
       "      'time': 0.2396078109741211},\n",
       "     'compressedGeometry': '+r3247-1vvvgdv+14gpjj0-fh7+da6'},\n",
       "    {'attributes': {'ETA': 1549469359813,\n",
       "      'arriveTimeUTC': 1549487359813,\n",
       "      'length': 0.0847557415571103,\n",
       "      'maneuverType': 'esriDMTTurnRight',\n",
       "      'text': 'Turn right on Crestwood Dr',\n",
       "      'time': 0.552799902641732},\n",
       "     'compressedGeometry': '+r3247-1vvvvv6+14gq0t6+edn+kh1+7lf+9rk'},\n",
       "    {'attributes': {'ETA': 1549469392981,\n",
       "      'arriveTimeUTC': 1549487392981,\n",
       "      'length': 0,\n",
       "      'maneuverType': 'esriDMTStop',\n",
       "      'text': 'Finish at Location 2, on the left',\n",
       "      'time': 0},\n",
       "     'compressedGeometry': '+r32di-1vvvvu7+14grbst+0+0'}],\n",
       "   'routeId': 1,\n",
       "   'routeName': 'Location 1 - Location 2',\n",
       "   'summary': {'envelope': {'spatialReference': {'latestWkid': 4326,\n",
       "      'wkid': 4326},\n",
       "     'xmax': -75.57828999999998,\n",
       "     'xmin': -76.1501553078651,\n",
       "     'ymax': 43.13739300000003,\n",
       "     'ymin': 43.04273000000006},\n",
       "    'totalDriveTime': 40.94345553040018,\n",
       "    'totalLength': 35.81232072712911,\n",
       "    'totalTime': 40.94345553196035}}],\n",
       " 'messages': []}"
      ]
     },
     "execution_count": 54,
     "metadata": {},
     "output_type": "execute_result"
    }
   ],
   "source": [
    "result"
   ]
  },
  {
   "cell_type": "code",
   "execution_count": 207,
   "metadata": {},
   "outputs": [
    {
     "data": {
      "text/html": [
       "<div>\n",
       "<style scoped>\n",
       "    .dataframe tbody tr th:only-of-type {\n",
       "        vertical-align: middle;\n",
       "    }\n",
       "\n",
       "    .dataframe tbody tr th {\n",
       "        vertical-align: top;\n",
       "    }\n",
       "\n",
       "    .dataframe thead th {\n",
       "        text-align: right;\n",
       "    }\n",
       "</style>\n",
       "<table border=\"1\" class=\"dataframe\">\n",
       "  <thead>\n",
       "    <tr style=\"text-align: right;\">\n",
       "      <th></th>\n",
       "      <th>AddBldg</th>\n",
       "      <th>AddNum</th>\n",
       "      <th>AddNumFrom</th>\n",
       "      <th>AddNumTo</th>\n",
       "      <th>AddRange</th>\n",
       "      <th>Addr_type</th>\n",
       "      <th>BldgName</th>\n",
       "      <th>BldgType</th>\n",
       "      <th>Block</th>\n",
       "      <th>City</th>\n",
       "      <th>Country</th>\n",
       "      <th>DisplayX</th>\n",
       "      <th>DisplayY</th>\n",
       "      <th>Distance</th>\n",
       "      <th>District</th>\n",
       "      <th>ExInfo</th>\n",
       "      <th>LangCode</th>\n",
       "      <th>LevelName</th>\n",
       "      <th>LevelType</th>\n",
       "      <th>Loc_name</th>\n",
       "      <th>LongLabel</th>\n",
       "      <th>Match_addr</th>\n",
       "      <th>MetroArea</th>\n",
       "      <th>Nbrhd</th>\n",
       "      <th>OBJECTID</th>\n",
       "      <th>Phone</th>\n",
       "      <th>PlaceName</th>\n",
       "      <th>Place_addr</th>\n",
       "      <th>Postal</th>\n",
       "      <th>PostalExt</th>\n",
       "      <th>Rank</th>\n",
       "      <th>Region</th>\n",
       "      <th>RegionAbbr</th>\n",
       "      <th>Score</th>\n",
       "      <th>Sector</th>\n",
       "      <th>ShortLabel</th>\n",
       "      <th>Side</th>\n",
       "      <th>StAddr</th>\n",
       "      <th>StDir</th>\n",
       "      <th>StName</th>\n",
       "      <th>StPreDir</th>\n",
       "      <th>StPreType</th>\n",
       "      <th>StType</th>\n",
       "      <th>Status</th>\n",
       "      <th>SubAddr</th>\n",
       "      <th>Subregion</th>\n",
       "      <th>Territory</th>\n",
       "      <th>Type</th>\n",
       "      <th>URL</th>\n",
       "      <th>UnitName</th>\n",
       "      <th>UnitType</th>\n",
       "      <th>X</th>\n",
       "      <th>Xmax</th>\n",
       "      <th>Xmin</th>\n",
       "      <th>Y</th>\n",
       "      <th>Ymax</th>\n",
       "      <th>Ymin</th>\n",
       "      <th>Zone</th>\n",
       "      <th>SHAPE</th>\n",
       "    </tr>\n",
       "  </thead>\n",
       "  <tbody>\n",
       "    <tr>\n",
       "      <th>0</th>\n",
       "      <td></td>\n",
       "      <td>235</td>\n",
       "      <td>199</td>\n",
       "      <td>165</td>\n",
       "      <td>165-199</td>\n",
       "      <td>StreetAddressExt</td>\n",
       "      <td></td>\n",
       "      <td></td>\n",
       "      <td></td>\n",
       "      <td>Syracuse</td>\n",
       "      <td>USA</td>\n",
       "      <td>-76.1501</td>\n",
       "      <td>43.042841</td>\n",
       "      <td>0</td>\n",
       "      <td></td>\n",
       "      <td></td>\n",
       "      <td>ENG</td>\n",
       "      <td></td>\n",
       "      <td></td>\n",
       "      <td>World</td>\n",
       "      <td>235 Harrison Pl, Syracuse, NY, 13202, USA</td>\n",
       "      <td>235 Harrison Pl, Syracuse, New York, 13202</td>\n",
       "      <td></td>\n",
       "      <td>Downtown</td>\n",
       "      <td>2</td>\n",
       "      <td></td>\n",
       "      <td>tech_garden</td>\n",
       "      <td>235 Harrison Pl, Syracuse, New York, 13202</td>\n",
       "      <td>13202</td>\n",
       "      <td></td>\n",
       "      <td>20</td>\n",
       "      <td>New York</td>\n",
       "      <td>NY</td>\n",
       "      <td>97.04</td>\n",
       "      <td></td>\n",
       "      <td>235 Harrison Pl</td>\n",
       "      <td>R</td>\n",
       "      <td>235 Harrison Pl</td>\n",
       "      <td></td>\n",
       "      <td>Harrison</td>\n",
       "      <td></td>\n",
       "      <td></td>\n",
       "      <td>Pl</td>\n",
       "      <td>M</td>\n",
       "      <td></td>\n",
       "      <td>Onondaga County</td>\n",
       "      <td></td>\n",
       "      <td></td>\n",
       "      <td></td>\n",
       "      <td></td>\n",
       "      <td></td>\n",
       "      <td>-76.1501</td>\n",
       "      <td>-76.1491</td>\n",
       "      <td>-76.1511</td>\n",
       "      <td>43.042841</td>\n",
       "      <td>43.043841</td>\n",
       "      <td>43.041841</td>\n",
       "      <td></td>\n",
       "      <td>{'x': -76.15009974491174, 'y': 43.042841208438...</td>\n",
       "    </tr>\n",
       "  </tbody>\n",
       "</table>\n",
       "</div>"
      ],
      "text/plain": [
       "  AddBldg AddNum AddNumFrom                        ...                               Ymin Zone                                              SHAPE\n",
       "0            235        199                        ...                          43.041841       {'x': -76.15009974491174, 'y': 43.042841208438...\n",
       "\n",
       "[1 rows x 59 columns]"
      ]
     },
     "execution_count": 207,
     "metadata": {},
     "output_type": "execute_result"
    }
   ],
   "source": [
    "# Using this as a demo starting point\n",
    "tech_garden = geocode(address=\"235 Harrison St, Syracuse, NY 13202\", as_featureset=True)\n",
    "tech_garden = tech_garden.features[1]\n",
    "tech_garden.set_value('PlaceName', 'tech_garden')\n",
    "tech_garden = FeatureSet([tech_garden])\n",
    "tech_garden.df"
   ]
  },
  {
   "cell_type": "code",
   "execution_count": 211,
   "metadata": {},
   "outputs": [],
   "source": [
    "# this is needed by the solve_vehicle_routing_problem function \n",
    "# to define the start and end point\n",
    "route = {\n",
    "    'Name': 'demo trip',\n",
    "    'StartDepotName': 'tech_garden',\n",
    "    'EndDepotName': 'tech_garden'\n",
    "}\n",
    "route = Feature(route)\n",
    "route = FeatureSet([route])"
   ]
  },
  {
   "cell_type": "code",
   "execution_count": 161,
   "metadata": {},
   "outputs": [
    {
     "data": {
      "text/html": [
       "<div>\n",
       "<style scoped>\n",
       "    .dataframe tbody tr th:only-of-type {\n",
       "        vertical-align: middle;\n",
       "    }\n",
       "\n",
       "    .dataframe tbody tr th {\n",
       "        vertical-align: top;\n",
       "    }\n",
       "\n",
       "    .dataframe thead th {\n",
       "        text-align: right;\n",
       "    }\n",
       "</style>\n",
       "<table border=\"1\" class=\"dataframe\">\n",
       "  <thead>\n",
       "    <tr style=\"text-align: right;\">\n",
       "      <th></th>\n",
       "      <th>AddBldg</th>\n",
       "      <th>AddNum</th>\n",
       "      <th>AddNumFrom</th>\n",
       "      <th>AddNumTo</th>\n",
       "      <th>AddRange</th>\n",
       "      <th>Addr_type</th>\n",
       "      <th>BldgName</th>\n",
       "      <th>BldgType</th>\n",
       "      <th>Block</th>\n",
       "      <th>City</th>\n",
       "      <th>Country</th>\n",
       "      <th>DisplayX</th>\n",
       "      <th>DisplayY</th>\n",
       "      <th>Distance</th>\n",
       "      <th>District</th>\n",
       "      <th>ExInfo</th>\n",
       "      <th>LangCode</th>\n",
       "      <th>LevelName</th>\n",
       "      <th>LevelType</th>\n",
       "      <th>Loc_name</th>\n",
       "      <th>LongLabel</th>\n",
       "      <th>Match_addr</th>\n",
       "      <th>MetroArea</th>\n",
       "      <th>Nbrhd</th>\n",
       "      <th>OBJECTID</th>\n",
       "      <th>Phone</th>\n",
       "      <th>PlaceName</th>\n",
       "      <th>Place_addr</th>\n",
       "      <th>Postal</th>\n",
       "      <th>PostalExt</th>\n",
       "      <th>Rank</th>\n",
       "      <th>Region</th>\n",
       "      <th>RegionAbbr</th>\n",
       "      <th>Score</th>\n",
       "      <th>Sector</th>\n",
       "      <th>ShortLabel</th>\n",
       "      <th>Side</th>\n",
       "      <th>StAddr</th>\n",
       "      <th>StDir</th>\n",
       "      <th>StName</th>\n",
       "      <th>StPreDir</th>\n",
       "      <th>StPreType</th>\n",
       "      <th>StType</th>\n",
       "      <th>Status</th>\n",
       "      <th>SubAddr</th>\n",
       "      <th>Subregion</th>\n",
       "      <th>Territory</th>\n",
       "      <th>Type</th>\n",
       "      <th>URL</th>\n",
       "      <th>UnitName</th>\n",
       "      <th>UnitType</th>\n",
       "      <th>X</th>\n",
       "      <th>Xmax</th>\n",
       "      <th>Xmin</th>\n",
       "      <th>Y</th>\n",
       "      <th>Ymax</th>\n",
       "      <th>Ymin</th>\n",
       "      <th>Zone</th>\n",
       "      <th>SHAPE</th>\n",
       "    </tr>\n",
       "  </thead>\n",
       "  <tbody>\n",
       "    <tr>\n",
       "      <th>0</th>\n",
       "      <td></td>\n",
       "      <td>235</td>\n",
       "      <td>199</td>\n",
       "      <td>165</td>\n",
       "      <td>165-199</td>\n",
       "      <td>StreetAddressExt</td>\n",
       "      <td></td>\n",
       "      <td></td>\n",
       "      <td></td>\n",
       "      <td>Syracuse</td>\n",
       "      <td>USA</td>\n",
       "      <td>-76.1501</td>\n",
       "      <td>43.042841</td>\n",
       "      <td>0</td>\n",
       "      <td></td>\n",
       "      <td></td>\n",
       "      <td>ENG</td>\n",
       "      <td></td>\n",
       "      <td></td>\n",
       "      <td>World</td>\n",
       "      <td>235 Harrison Pl, Syracuse, NY, 13202, USA</td>\n",
       "      <td>235 Harrison Pl, Syracuse, New York, 13202</td>\n",
       "      <td></td>\n",
       "      <td>Downtown</td>\n",
       "      <td>2</td>\n",
       "      <td></td>\n",
       "      <td></td>\n",
       "      <td>235 Harrison Pl, Syracuse, New York, 13202</td>\n",
       "      <td>13202</td>\n",
       "      <td></td>\n",
       "      <td>20</td>\n",
       "      <td>New York</td>\n",
       "      <td>NY</td>\n",
       "      <td>97.04</td>\n",
       "      <td></td>\n",
       "      <td>235 Harrison Pl</td>\n",
       "      <td>R</td>\n",
       "      <td>235 Harrison Pl</td>\n",
       "      <td></td>\n",
       "      <td>Harrison</td>\n",
       "      <td></td>\n",
       "      <td></td>\n",
       "      <td>Pl</td>\n",
       "      <td>M</td>\n",
       "      <td></td>\n",
       "      <td>Onondaga County</td>\n",
       "      <td></td>\n",
       "      <td></td>\n",
       "      <td></td>\n",
       "      <td></td>\n",
       "      <td></td>\n",
       "      <td>-76.1501</td>\n",
       "      <td>-76.1491</td>\n",
       "      <td>-76.1511</td>\n",
       "      <td>43.042841</td>\n",
       "      <td>43.043841</td>\n",
       "      <td>43.041841</td>\n",
       "      <td></td>\n",
       "      <td>{'x': -76.15009974491174, 'y': 43.042841208438...</td>\n",
       "    </tr>\n",
       "  </tbody>\n",
       "</table>\n",
       "</div>"
      ],
      "text/plain": [
       "  AddBldg AddNum AddNumFrom                        ...                               Ymin Zone                                              SHAPE\n",
       "0            235        199                        ...                          43.041841       {'x': -76.15009974491174, 'y': 43.042841208438...\n",
       "\n",
       "[1 rows x 59 columns]"
      ]
     },
     "execution_count": 161,
     "metadata": {},
     "output_type": "execute_result"
    }
   ],
   "source": [
    "tech_garden.df"
   ]
  },
  {
   "cell_type": "code",
   "execution_count": 377,
   "metadata": {},
   "outputs": [
    {
     "data": {
      "text/plain": [
       "{\"geometry\": {\"x\": -76.15009974491174, \"y\": 43.04284120843839, \"spatialReference\": {\"wkid\": 4326, \"latestWkid\": 4326}, \"type\": \"point\"}, \"attributes\": {\"Loc_name\": \"World\", \"Status\": \"M\", \"Score\": 97.04, \"Match_addr\": \"235 Harrison Pl, Syracuse, New York, 13202\", \"LongLabel\": \"235 Harrison Pl, Syracuse, NY, 13202, USA\", \"ShortLabel\": \"235 Harrison Pl\", \"Addr_type\": \"StreetAddressExt\", \"Type\": \"\", \"PlaceName\": \"tech_garden\", \"Place_addr\": \"235 Harrison Pl, Syracuse, New York, 13202\", \"Phone\": \"\", \"URL\": \"\", \"Rank\": 20, \"AddBldg\": \"\", \"AddNum\": \"235\", \"AddNumFrom\": \"199\", \"AddNumTo\": \"165\", \"AddRange\": \"165-199\", \"Side\": \"R\", \"StPreDir\": \"\", \"StPreType\": \"\", \"StName\": \"Harrison\", \"StType\": \"Pl\", \"StDir\": \"\", \"BldgType\": \"\", \"BldgName\": \"\", \"LevelType\": \"\", \"LevelName\": \"\", \"UnitType\": \"\", \"UnitName\": \"\", \"SubAddr\": \"\", \"StAddr\": \"235 Harrison Pl\", \"Block\": \"\", \"Sector\": \"\", \"Nbrhd\": \"Downtown\", \"District\": \"\", \"City\": \"Syracuse\", \"MetroArea\": \"\", \"Subregion\": \"Onondaga County\", \"Region\": \"New York\", \"RegionAbbr\": \"NY\", \"Territory\": \"\", \"Zone\": \"\", \"Postal\": \"13202\", \"PostalExt\": \"\", \"Country\": \"USA\", \"LangCode\": \"ENG\", \"Distance\": 0, \"X\": -76.15009974491174, \"Y\": 43.04284120843839, \"DisplayX\": -76.15009974491174, \"DisplayY\": 43.04284120843839, \"Xmin\": -76.15109974491175, \"Xmax\": -76.14909974491174, \"Ymin\": 43.04184120843839, \"Ymax\": 43.04384120843839, \"ExInfo\": \"\", \"OBJECTID\": 2}}"
      ]
     },
     "execution_count": 377,
     "metadata": {},
     "output_type": "execute_result"
    }
   ],
   "source": [
    "tech_garden.features[0]"
   ]
  },
  {
   "cell_type": "code",
   "execution_count": 398,
   "metadata": {},
   "outputs": [
    {
     "data": {
      "application/vnd.jupyter.widget-view+json": {
       "model_id": "b257978b832047a192bd91f7bf4b8699",
       "version_major": 2,
       "version_minor": 0
      },
      "text/plain": [
       "MapView(basemap='streets', layout=Layout(height='400px', width='100%'), zoom=8.0)"
      ]
     },
     "metadata": {},
     "output_type": "display_data"
    }
   ],
   "source": [
    "map1 = dev_gis.map(\"canastota, NY\", zoomlevel=8)\n",
    "map1.basemap = \"streets\"\n",
    "map1"
   ]
  },
  {
   "cell_type": "code",
   "execution_count": 447,
   "metadata": {},
   "outputs": [],
   "source": [
    "# map1.draw(tech_garden)\n",
    "for i in range(len(addresses)):\n",
    "    map1.draw(geocode(addresses[i])[0])\n",
    "# map1.draw(tech_garden, symbol=tg_symbol)\n",
    "# map1.draw(tech_garden, symbol=tg_symbol)\n",
    "# map1.draw(tech_garden, symbol=tg_symbol)"
   ]
  },
  {
   "cell_type": "code",
   "execution_count": 446,
   "metadata": {},
   "outputs": [],
   "source": [
    "map1.clear_graphics()"
   ]
  },
  {
   "cell_type": "code",
   "execution_count": 457,
   "metadata": {
    "scrolled": true
   },
   "outputs": [
    {
     "name": "stdout",
     "output_type": "stream",
     "text": [
      "5\n",
      "{\"attributes\": {\"EndTime\": 1538906340.0, \"ServiceTime\": 30, \"StartTime\": 1538906400.0, \"address\": \"235 Harrison St, Syracuse, New York, 13202\", \"attributes\": {\"Loc_name\": \"World\", \"Status\": \"M\", \"Score\": 100, \"Match_addr\": \"235 Harrison St, Syracuse, New York, 13202\", \"LongLabel\": \"235 Harrison St, Syracuse, NY, 13202, USA\", \"ShortLabel\": \"235 Harrison St\", \"Addr_type\": \"PointAddress\", \"Type\": \"\", \"PlaceName\": \"\", \"Place_addr\": \"235 Harrison St, Syracuse, New York, 13202\", \"Phone\": \"\", \"URL\": \"\", \"Rank\": 20, \"AddBldg\": \"\", \"AddNum\": \"235\", \"AddNumFrom\": \"\", \"AddNumTo\": \"\", \"AddRange\": \"\", \"Side\": \"R\", \"StPreDir\": \"\", \"StPreType\": \"\", \"StName\": \"Harrison\", \"StType\": \"St\", \"StDir\": \"\", \"BldgType\": \"\", \"BldgName\": \"\", \"LevelType\": \"\", \"LevelName\": \"\", \"UnitType\": \"\", \"UnitName\": \"\", \"SubAddr\": \"\", \"StAddr\": \"235 Harrison St\", \"Block\": \"\", \"Sector\": \"\", \"Nbrhd\": \"Downtown\", \"District\": \"\", \"City\": \"Syracuse\", \"MetroArea\": \"\", \"Subregion\": \"Onondaga County\", \"Region\": \"New York\", \"RegionAbbr\": \"NY\", \"Territory\": \"\", \"Zone\": \"\", \"Postal\": \"13202\", \"PostalExt\": \"\", \"Country\": \"USA\", \"LangCode\": \"ENG\", \"Distance\": 0, \"X\": -76.15016083236193, \"Y\": 43.04434748211082, \"DisplayX\": -76.150161, \"DisplayY\": 43.04447999999999, \"Xmin\": -76.151161, \"Xmax\": -76.14916099999999, \"Ymin\": 43.043479999999995, \"Ymax\": 43.04547999999999, \"ExInfo\": \"\"}, \"extent\": {\"xmin\": -76.151161, \"ymin\": 43.043479999999995, \"xmax\": -76.14916099999999, \"ymax\": 43.04547999999999}, \"location\": {\"x\": -76.15016083236193, \"y\": 43.04434748211082}, \"score\": 100, \"OBJECTID\": 1}}\n"
     ]
    }
   ],
   "source": [
    "addresses = [\n",
    "    \"235 Harrison St, Syracuse, NY 13202\",\n",
    "    \"5659-crestwood-dr-verona-ny-13478\",\n",
    "    \"7081-verna-dr-canastota-ny-13032\",\n",
    "    \"125-cadillac-st-syracuse-ny-13208\",\n",
    "    \"1202-schuyler-st-rome-ny-13440\"\n",
    "]\n",
    "T = [\n",
    "    [\"10/07/2018 10:00 AM\", \"10/07/2018 09:59 AM\"], #\"Sunday, October 7 11:00 AM to 1:00 PM\",\n",
    "    [\"10/07/2018 01:00 PM\", \"10/07/2018 03:00 PM\"], #\"Sunday, October 7 1:00 PM to 3:00 PM\",\n",
    "    [\"10/07/2018 11:00 AM\", \"10/07/2018 01:00 PM\"], #\"Sunday, October 7 11:00 AM to 1:00 PM\",\n",
    "    [\"10/07/2018 11:00 AM\", \"10/07/2018 01:00 PM\"], #\"Sunday, October 7 11:00 AM to 1:00 PM\",\n",
    "    [\"10/07/2018 01:00 PM\", \"10/07/2018 02:30 PM\"] #\"Sunday, October 7 1:00 PM to 2:30 PM\"\n",
    "]\n",
    "for i in range(len(times)):\n",
    "    T[i][0] = datetime_object = datetime.datetime.strptime(T[i][0], '%m/%d/%Y %I:%M %p').timestamp()\n",
    "    T[i][1] = datetime_object = datetime.datetime.strptime(T[i][1], '%m/%d/%Y %I:%M %p').timestamp()\n",
    "\n",
    "geocoded_addresses = []\n",
    "for i in range(len(addresses)):\n",
    "    A = geocode(addresses[i])[0]\n",
    "    A['ServiceTime'] = 30\n",
    "    A['StartTime'] = T[i][0]\n",
    "    A['EndTime'] = T[i][1]\n",
    "    geocoded_addresses += [A]\n",
    "geocoded_addresses = FeatureSet.from_dataframe(pd.DataFrame(geocoded_addresses))\n",
    "print(len(geocoded_addresses.features))\n",
    "print(geocoded_addresses.features[0])"
   ]
  },
  {
   "cell_type": "code",
   "execution_count": 539,
   "metadata": {},
   "outputs": [],
   "source": [
    "def getRoute(feature1, feature2, get_directions = False):\n",
    "    route_layer = network.RouteLayer(route_service_url, gis=my_gis)\n",
    "    start_time = int(datetime.datetime.now().timestamp() * 1000)\n",
    "\n",
    "    my_point1 = feature1.as_dict\n",
    "    my_point2 = feature2.as_dict\n",
    "    \n",
    "    if get_directions:\n",
    "        result = route_layer.solve(stops='''%f,%f; %f,%f'''%(my_point1['attributes']['location']['x'], \n",
    "                                                             my_point1['attributes']['location']['y'],\n",
    "                                                             my_point2['attributes']['location']['x'], \n",
    "                                                             my_point2['attributes']['location']['y'],\n",
    "                                                            ),\n",
    "                                   directions_language='en-US', return_routes=False,\n",
    "                                   return_stops=False, return_directions=True,\n",
    "                                   directions_length_units='esriNAUMiles',\n",
    "                                   return_barriers=False, return_polygon_barriers=False,\n",
    "                                   return_polyline_barriers=False, start_time=start_time,\n",
    "                                   start_time_is_utc=True)\n",
    "\n",
    "\n",
    "        records = []\n",
    "        travel_time, time_counter = 0, 0\n",
    "        distance, distance_counter = 0, 0\n",
    "\n",
    "        for i in result['directions'][0]['features']:\n",
    "            time_of_day = datetime.datetime.fromtimestamp(i['attributes']['arriveTimeUTC'] / 1000).strftime('%H:%M:%S')\n",
    "            time_counter = i['attributes']['time']\n",
    "            distance_counter = i['attributes']['length']\n",
    "            travel_time += time_counter\n",
    "            distance += distance_counter\n",
    "            records.append( (time_of_day, i['attributes']['text'], \n",
    "                             travel_time, round(distance, 2))  )\n",
    "\n",
    "        pd.set_option('display.max_colwidth', 100)\n",
    "        df = pd.DataFrame.from_records(records, index=[i for i in range(1, len(records) + 1)], \n",
    "                                       columns=['Time of day', 'Direction text', \n",
    "                                                'Duration (min)', 'Distance (miles)'])\n",
    "        directions = HTML(df.to_html(index=False))\n",
    "        return [directions, [records[-1][2]*60, my_point2['attributes']['StartTime'], my_point2['attributes']['EndTime']]]\n",
    "    else:\n",
    "        result = route_layer.solve(stops='''%f,%f; %f,%f'''%(my_point1['attributes']['location']['x'], \n",
    "                                                             my_point1['attributes']['location']['y'],\n",
    "                                                             my_point2['attributes']['location']['x'], \n",
    "                                                             my_point2['attributes']['location']['y'],\n",
    "                                                            ), \n",
    "                           return_directions=False, return_routes=True, \n",
    "                           output_lines='esriNAOutputLineNone', return_barriers=False, \n",
    "                           return_polygon_barriers=False, return_polyline_barriers=False)\n",
    "        return float(result['routes']['features'][0]['attributes']['Total_TravelTime'])\n",
    "\n",
    "\n",
    "\n",
    "\n"
   ]
  },
  {
   "cell_type": "code",
   "execution_count": 453,
   "metadata": {},
   "outputs": [],
   "source": [
    "def meets_demand(arrival_time, start_time, end_time):\n",
    "    return arrival_time <= end_time"
   ]
  },
  {
   "cell_type": "code",
   "execution_count": 543,
   "metadata": {
    "scrolled": true
   },
   "outputs": [
    {
     "name": "stdout",
     "output_type": "stream",
     "text": [
      "5\n",
      "[[[0.00000000e+00 1.53890640e+09 1.53890634e+09]\n",
      "  [2.52773561e+03 1.53891720e+09 1.53892440e+09]\n",
      "  [2.08706090e+03 1.53891000e+09 1.53891720e+09]\n",
      "  [5.94172332e+02 1.53891000e+09 1.53891720e+09]\n",
      "  [3.25525052e+03 1.53891720e+09 1.53892260e+09]]\n",
      "\n",
      " [[2.50873881e+03 1.53890640e+09 1.53890634e+09]\n",
      "  [0.00000000e+00 1.53891720e+09 1.53892440e+09]\n",
      "  [1.23878828e+03 1.53891000e+09 1.53891720e+09]\n",
      "  [2.36288971e+03 1.53891000e+09 1.53891720e+09]\n",
      "  [1.01095719e+03 1.53891720e+09 1.53892260e+09]]\n",
      "\n",
      " [[2.04773864e+03 1.53890640e+09 1.53890634e+09]\n",
      "  [1.14872237e+03 1.53891720e+09 1.53892440e+09]\n",
      "  [0.00000000e+00 1.53891000e+09 1.53891720e+09]\n",
      "  [1.90203683e+03 1.53891000e+09 1.53891720e+09]\n",
      "  [1.88096089e+03 1.53891720e+09 1.53892260e+09]]\n",
      "\n",
      " [[5.56337135e+02 1.53890640e+09 1.53890634e+09]\n",
      "  [2.28106236e+03 1.53891720e+09 1.53892440e+09]\n",
      "  [1.84214807e+03 1.53891000e+09 1.53891720e+09]\n",
      "  [0.00000000e+00 1.53891000e+09 1.53891720e+09]\n",
      "  [3.00911690e+03 1.53891720e+09 1.53892260e+09]]\n",
      "\n",
      " [[3.24581377e+03 1.53890640e+09 1.53890634e+09]\n",
      "  [1.01986917e+03 1.53891720e+09 1.53892440e+09]\n",
      "  [1.97775019e+03 1.53891000e+09 1.53891720e+09]\n",
      "  [3.10185533e+03 1.53891000e+09 1.53891720e+09]\n",
      "  [0.00000000e+00 1.53891720e+09 1.53892260e+09]]]\n",
      "[[<IPython.core.display.HTML object> <IPython.core.display.HTML object>\n",
      "  <IPython.core.display.HTML object> <IPython.core.display.HTML object>\n",
      "  <IPython.core.display.HTML object>]\n",
      " [<IPython.core.display.HTML object> <IPython.core.display.HTML object>\n",
      "  <IPython.core.display.HTML object> <IPython.core.display.HTML object>\n",
      "  <IPython.core.display.HTML object>]\n",
      " [<IPython.core.display.HTML object> <IPython.core.display.HTML object>\n",
      "  <IPython.core.display.HTML object> <IPython.core.display.HTML object>\n",
      "  <IPython.core.display.HTML object>]\n",
      " [<IPython.core.display.HTML object> <IPython.core.display.HTML object>\n",
      "  <IPython.core.display.HTML object> <IPython.core.display.HTML object>\n",
      "  <IPython.core.display.HTML object>]\n",
      " [<IPython.core.display.HTML object> <IPython.core.display.HTML object>\n",
      "  <IPython.core.display.HTML object> <IPython.core.display.HTML object>\n",
      "  <IPython.core.display.HTML object>]]\n"
     ]
    }
   ],
   "source": [
    "print(len(geocoded_addresses.features))\n",
    "times = []\n",
    "directions = []\n",
    "for i in range(len(geocoded_addresses.features)):\n",
    "    dirs = []\n",
    "    row_times = []\n",
    "    for j in range(len(geocoded_addresses.features)):\n",
    "        d, t = getRoute(geocoded_addresses.features[i], geocoded_addresses.features[j], True)\n",
    "        row_times += [t]\n",
    "        dirs += [d]\n",
    "    directions += [dirs]\n",
    "    times += [row_times]\n",
    "#         break\n",
    "directions = np.array(directions)\n",
    "times = np.array(times)\n",
    "print(times)\n",
    "print(directions)"
   ]
  },
  {
   "cell_type": "code",
   "execution_count": 541,
   "metadata": {
    "scrolled": true
   },
   "outputs": [
    {
     "name": "stdout",
     "output_type": "stream",
     "text": [
      "5\n",
      "[[ 0.         42.17344419 35.60607338  9.89691332 53.79842879]\n",
      " [42.26072916  0.         21.46955734 39.8793877  17.15826095]\n",
      " [34.7434608  19.57045876  0.         32.36211934 31.19544336]\n",
      " [ 9.42484748 38.46882888 31.90145808  0.         50.09381348]\n",
      " [53.50643917 16.75302285 32.78727208 51.12509771  0.        ]]\n"
     ]
    }
   ],
   "source": [
    "print(len(geocoded_addresses.features))\n",
    "times = []\n",
    "for i in range(len(geocoded_addresses.features)):\n",
    "    dirs = []\n",
    "    row_times = []\n",
    "    for j in range(len(geocoded_addresses.features)):\n",
    "        t = getRoute(geocoded_addresses.features[i], geocoded_addresses.features[j])\n",
    "        row_times += [t]\n",
    "    times += [row_times]\n",
    "#         break\n",
    "times = np.array(times)\n",
    "print(times)"
   ]
  },
  {
   "cell_type": "code",
   "execution_count": 616,
   "metadata": {},
   "outputs": [],
   "source": [
    "def get_paths(times, current_time, average_time_at_open_house = 60 * 20):\n",
    "    print(times)"
   ]
  },
  {
   "cell_type": "code",
   "execution_count": 617,
   "metadata": {},
   "outputs": [
    {
     "name": "stdout",
     "output_type": "stream",
     "text": [
      "Leaving home at 10/07/2018 10:00 AM\n",
      "[[[0.00000000e+00 1.53890640e+09 1.53890634e+09]\n",
      "  [2.52773561e+03 1.53891720e+09 1.53892440e+09]\n",
      "  [2.08706090e+03 1.53891000e+09 1.53891720e+09]\n",
      "  [5.94172332e+02 1.53891000e+09 1.53891720e+09]\n",
      "  [3.25525052e+03 1.53891720e+09 1.53892260e+09]]\n",
      "\n",
      " [[2.50873881e+03 1.53890640e+09 1.53890634e+09]\n",
      "  [0.00000000e+00 1.53891720e+09 1.53892440e+09]\n",
      "  [1.23878828e+03 1.53891000e+09 1.53891720e+09]\n",
      "  [2.36288971e+03 1.53891000e+09 1.53891720e+09]\n",
      "  [1.01095719e+03 1.53891720e+09 1.53892260e+09]]\n",
      "\n",
      " [[2.04773864e+03 1.53890640e+09 1.53890634e+09]\n",
      "  [1.14872237e+03 1.53891720e+09 1.53892440e+09]\n",
      "  [0.00000000e+00 1.53891000e+09 1.53891720e+09]\n",
      "  [1.90203683e+03 1.53891000e+09 1.53891720e+09]\n",
      "  [1.88096089e+03 1.53891720e+09 1.53892260e+09]]\n",
      "\n",
      " [[5.56337135e+02 1.53890640e+09 1.53890634e+09]\n",
      "  [2.28106236e+03 1.53891720e+09 1.53892440e+09]\n",
      "  [1.84214807e+03 1.53891000e+09 1.53891720e+09]\n",
      "  [0.00000000e+00 1.53891000e+09 1.53891720e+09]\n",
      "  [3.00911690e+03 1.53891720e+09 1.53892260e+09]]\n",
      "\n",
      " [[3.24581377e+03 1.53890640e+09 1.53890634e+09]\n",
      "  [1.01986917e+03 1.53891720e+09 1.53892440e+09]\n",
      "  [1.97775019e+03 1.53891000e+09 1.53891720e+09]\n",
      "  [3.10185533e+03 1.53891000e+09 1.53891720e+09]\n",
      "  [0.00000000e+00 1.53891720e+09 1.53892260e+09]]]\n"
     ]
    }
   ],
   "source": [
    "current_time = T[0][0]\n",
    "dt = datetime.datetime.fromtimestamp(current_time)\n",
    "print('Leaving home at %s' % dt.strftime('%m/%d/%Y %I:%M %p'))\n",
    "paths = get_paths(times, current_time, 60*10)"
   ]
  },
  {
   "cell_type": "code",
   "execution_count": 480,
   "metadata": {},
   "outputs": [
    {
     "ename": "LinAlgError",
     "evalue": "Last 2 dimensions of the array must be square",
     "output_type": "error",
     "traceback": [
      "\u001b[0;31m---------------------------------------------------------------------------\u001b[0m",
      "\u001b[0;31mLinAlgError\u001b[0m                               Traceback (most recent call last)",
      "\u001b[0;32m<ipython-input-480-db48c66f1377>\u001b[0m in \u001b[0;36m<module>\u001b[0;34m()\u001b[0m\n\u001b[0;32m----> 1\u001b[0;31m \u001b[0mprint\u001b[0m\u001b[0;34m(\u001b[0m\u001b[0meig\u001b[0m\u001b[0;34m(\u001b[0m\u001b[0mtimes\u001b[0m\u001b[0;34m[\u001b[0m\u001b[0;36m1\u001b[0m\u001b[0;34m:\u001b[0m\u001b[0;34m,\u001b[0m\u001b[0;36m1\u001b[0m\u001b[0;34m:\u001b[0m\u001b[0;34m]\u001b[0m\u001b[0;34m)\u001b[0m\u001b[0;34m)\u001b[0m\u001b[0;34m\u001b[0m\u001b[0m\n\u001b[0m",
      "\u001b[0;32m/opt/conda/lib/python3.6/site-packages/numpy/linalg/linalg.py\u001b[0m in \u001b[0;36meig\u001b[0;34m(a)\u001b[0m\n\u001b[1;32m   1259\u001b[0m     \u001b[0ma\u001b[0m\u001b[0;34m,\u001b[0m \u001b[0mwrap\u001b[0m \u001b[0;34m=\u001b[0m \u001b[0m_makearray\u001b[0m\u001b[0;34m(\u001b[0m\u001b[0ma\u001b[0m\u001b[0;34m)\u001b[0m\u001b[0;34m\u001b[0m\u001b[0m\n\u001b[1;32m   1260\u001b[0m     \u001b[0m_assertRankAtLeast2\u001b[0m\u001b[0;34m(\u001b[0m\u001b[0ma\u001b[0m\u001b[0;34m)\u001b[0m\u001b[0;34m\u001b[0m\u001b[0m\n\u001b[0;32m-> 1261\u001b[0;31m     \u001b[0m_assertNdSquareness\u001b[0m\u001b[0;34m(\u001b[0m\u001b[0ma\u001b[0m\u001b[0;34m)\u001b[0m\u001b[0;34m\u001b[0m\u001b[0m\n\u001b[0m\u001b[1;32m   1262\u001b[0m     \u001b[0m_assertFinite\u001b[0m\u001b[0;34m(\u001b[0m\u001b[0ma\u001b[0m\u001b[0;34m)\u001b[0m\u001b[0;34m\u001b[0m\u001b[0m\n\u001b[1;32m   1263\u001b[0m     \u001b[0mt\u001b[0m\u001b[0;34m,\u001b[0m \u001b[0mresult_t\u001b[0m \u001b[0;34m=\u001b[0m \u001b[0m_commonType\u001b[0m\u001b[0;34m(\u001b[0m\u001b[0ma\u001b[0m\u001b[0;34m)\u001b[0m\u001b[0;34m\u001b[0m\u001b[0m\n",
      "\u001b[0;32m/opt/conda/lib/python3.6/site-packages/numpy/linalg/linalg.py\u001b[0m in \u001b[0;36m_assertNdSquareness\u001b[0;34m(*arrays)\u001b[0m\n\u001b[1;32m    213\u001b[0m         \u001b[0mm\u001b[0m\u001b[0;34m,\u001b[0m \u001b[0mn\u001b[0m \u001b[0;34m=\u001b[0m \u001b[0ma\u001b[0m\u001b[0;34m.\u001b[0m\u001b[0mshape\u001b[0m\u001b[0;34m[\u001b[0m\u001b[0;34m-\u001b[0m\u001b[0;36m2\u001b[0m\u001b[0;34m:\u001b[0m\u001b[0;34m]\u001b[0m\u001b[0;34m\u001b[0m\u001b[0m\n\u001b[1;32m    214\u001b[0m         \u001b[0;32mif\u001b[0m \u001b[0mm\u001b[0m \u001b[0;34m!=\u001b[0m \u001b[0mn\u001b[0m\u001b[0;34m:\u001b[0m\u001b[0;34m\u001b[0m\u001b[0m\n\u001b[0;32m--> 215\u001b[0;31m             \u001b[0;32mraise\u001b[0m \u001b[0mLinAlgError\u001b[0m\u001b[0;34m(\u001b[0m\u001b[0;34m'Last 2 dimensions of the array must be square'\u001b[0m\u001b[0;34m)\u001b[0m\u001b[0;34m\u001b[0m\u001b[0m\n\u001b[0m\u001b[1;32m    216\u001b[0m \u001b[0;34m\u001b[0m\u001b[0m\n\u001b[1;32m    217\u001b[0m \u001b[0;32mdef\u001b[0m \u001b[0m_assertFinite\u001b[0m\u001b[0;34m(\u001b[0m\u001b[0;34m*\u001b[0m\u001b[0marrays\u001b[0m\u001b[0;34m)\u001b[0m\u001b[0;34m:\u001b[0m\u001b[0;34m\u001b[0m\u001b[0m\n",
      "\u001b[0;31mLinAlgError\u001b[0m: Last 2 dimensions of the array must be square"
     ]
    }
   ],
   "source": [
    "addresses = [\n",
    "    \"235 Harrison St, Syracuse, NY 13202\",\n",
    "    \"5659-crestwood-dr-verona-ny-13478\",\n",
    "    \"7081-verna-dr-canastota-ny-13032\",\n",
    "    \"125-cadillac-st-syracuse-ny-13208\",\n",
    "    \"1202-schuyler-st-rome-ny-13440\"\n",
    "]\n",
    "T = [\n",
    "    [\"10/07/2018 10:00 AM\", \"10/07/2018 09:59 AM\"], #\"Sunday, October 7 11:00 AM to 1:00 PM\",\n",
    "    [\"10/07/2018 01:00 PM\", \"10/07/2018 03:00 PM\"], #\"Sunday, October 7 1:00 PM to 3:00 PM\",\n",
    "    [\"10/07/2018 11:00 AM\", \"10/07/2018 01:00 PM\"], #\"Sunday, October 7 11:00 AM to 1:00 PM\",\n",
    "    [\"10/07/2018 11:00 AM\", \"10/07/2018 01:00 PM\"], #\"Sunday, October 7 11:00 AM to 1:00 PM\",\n",
    "    [\"10/07/2018 01:00 PM\", \"10/07/2018 02:30 PM\"] #\"Sunday, October 7 1:00 PM to 2:30 PM\"\n",
    "]"
   ]
  },
  {
   "cell_type": "code",
   "execution_count": 619,
   "metadata": {},
   "outputs": [
    {
     "data": {
      "text/html": [
       "<table border=\"1\" class=\"dataframe\">\n",
       "  <thead>\n",
       "    <tr style=\"text-align: right;\">\n",
       "      <th>Time of day</th>\n",
       "      <th>Direction text</th>\n",
       "      <th>Duration (min)</th>\n",
       "      <th>Distance (miles)</th>\n",
       "    </tr>\n",
       "  </thead>\n",
       "  <tbody>\n",
       "    <tr>\n",
       "      <td>13:24:04</td>\n",
       "      <td>Start at Location 1</td>\n",
       "      <td>0.000000</td>\n",
       "      <td>0.00</td>\n",
       "    </tr>\n",
       "    <tr>\n",
       "      <td>13:24:04</td>\n",
       "      <td>Go west on Harrison St toward Harrison Pl</td>\n",
       "      <td>0.002672</td>\n",
       "      <td>0.00</td>\n",
       "    </tr>\n",
       "    <tr>\n",
       "      <td>13:24:04</td>\n",
       "      <td>Turn left on Harrison Pl</td>\n",
       "      <td>1.029488</td>\n",
       "      <td>0.11</td>\n",
       "    </tr>\n",
       "    <tr>\n",
       "      <td>13:25:06</td>\n",
       "      <td>Turn left on E Adams St</td>\n",
       "      <td>2.536394</td>\n",
       "      <td>0.50</td>\n",
       "    </tr>\n",
       "    <tr>\n",
       "      <td>13:26:36</td>\n",
       "      <td>Turn left on Almond St</td>\n",
       "      <td>2.931522</td>\n",
       "      <td>0.62</td>\n",
       "    </tr>\n",
       "    <tr>\n",
       "      <td>13:27:00</td>\n",
       "      <td>Bear left onto ramp and go on I-81 N toward I-690 W</td>\n",
       "      <td>5.149134</td>\n",
       "      <td>2.25</td>\n",
       "    </tr>\n",
       "    <tr>\n",
       "      <td>13:29:13</td>\n",
       "      <td>At exit 22 bear right onto ramp toward Court St (RT-298)</td>\n",
       "      <td>5.408840</td>\n",
       "      <td>2.38</td>\n",
       "    </tr>\n",
       "    <tr>\n",
       "      <td>13:29:29</td>\n",
       "      <td>At fork keep left toward Court St (RT-298)</td>\n",
       "      <td>5.558594</td>\n",
       "      <td>2.43</td>\n",
       "    </tr>\n",
       "    <tr>\n",
       "      <td>13:29:38</td>\n",
       "      <td>Bear left on Sunset Ave</td>\n",
       "      <td>5.804659</td>\n",
       "      <td>2.49</td>\n",
       "    </tr>\n",
       "    <tr>\n",
       "      <td>13:29:52</td>\n",
       "      <td>Turn right on Court St (RT-298)</td>\n",
       "      <td>9.086662</td>\n",
       "      <td>3.50</td>\n",
       "    </tr>\n",
       "    <tr>\n",
       "      <td>13:33:09</td>\n",
       "      <td>Make sharp left on 7th North St</td>\n",
       "      <td>9.549666</td>\n",
       "      <td>3.65</td>\n",
       "    </tr>\n",
       "    <tr>\n",
       "      <td>13:33:37</td>\n",
       "      <td>Turn left on Cadillac St</td>\n",
       "      <td>9.902872</td>\n",
       "      <td>3.70</td>\n",
       "    </tr>\n",
       "    <tr>\n",
       "      <td>13:33:58</td>\n",
       "      <td>Finish at Location 2, on the right</td>\n",
       "      <td>9.902872</td>\n",
       "      <td>3.70</td>\n",
       "    </tr>\n",
       "  </tbody>\n",
       "</table>"
      ],
      "text/plain": [
       "<IPython.core.display.HTML object>"
      ]
     },
     "execution_count": 619,
     "metadata": {},
     "output_type": "execute_result"
    }
   ],
   "source": [
    "directions[0][3]"
   ]
  },
  {
   "cell_type": "code",
   "execution_count": null,
   "metadata": {},
   "outputs": [],
   "source": []
  },
  {
   "cell_type": "code",
   "execution_count": null,
   "metadata": {},
   "outputs": [],
   "source": []
  },
  {
   "cell_type": "code",
   "execution_count": null,
   "metadata": {},
   "outputs": [],
   "source": []
  },
  {
   "cell_type": "code",
   "execution_count": null,
   "metadata": {},
   "outputs": [],
   "source": []
  },
  {
   "cell_type": "code",
   "execution_count": null,
   "metadata": {},
   "outputs": [],
   "source": []
  },
  {
   "cell_type": "code",
   "execution_count": null,
   "metadata": {},
   "outputs": [],
   "source": []
  },
  {
   "cell_type": "code",
   "execution_count": null,
   "metadata": {},
   "outputs": [],
   "source": []
  },
  {
   "cell_type": "code",
   "execution_count": null,
   "metadata": {},
   "outputs": [],
   "source": []
  },
  {
   "cell_type": "code",
   "execution_count": null,
   "metadata": {},
   "outputs": [],
   "source": []
  },
  {
   "cell_type": "code",
   "execution_count": null,
   "metadata": {},
   "outputs": [],
   "source": []
  },
  {
   "cell_type": "code",
   "execution_count": null,
   "metadata": {},
   "outputs": [],
   "source": []
  },
  {
   "cell_type": "code",
   "execution_count": null,
   "metadata": {},
   "outputs": [],
   "source": [
    "\n",
    "\n",
    "\n",
    "\n",
    "\n",
    "\n",
    "\n",
    "\n",
    "\n",
    "\n",
    "\n",
    "\n"
   ]
  }
 ],
 "metadata": {
  "kernelspec": {
   "display_name": "Python 3",
   "language": "python",
   "name": "python3"
  },
  "language_info": {
   "codemirror_mode": {
    "name": "ipython",
    "version": 3
   },
   "file_extension": ".py",
   "mimetype": "text/x-python",
   "name": "python",
   "nbconvert_exporter": "python",
   "pygments_lexer": "ipython3",
   "version": "3.6.3"
  }
 },
 "nbformat": 4,
 "nbformat_minor": 2
}
