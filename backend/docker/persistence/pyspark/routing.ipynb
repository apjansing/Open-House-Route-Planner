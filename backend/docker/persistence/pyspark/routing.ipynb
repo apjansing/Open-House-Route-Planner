{
 "cells": [
  {
   "cell_type": "code",
   "execution_count": 139,
   "metadata": {},
   "outputs": [],
   "source": [
    "import json\n",
    "import numpy as np\n",
    "from pprint import pprint\n",
    "from os import listdir\n",
    "from os.path import isfile, join\n",
    "from MongoOps import MongoOps\n",
    "from ICSParser import ICSParser\n",
    "from make_directions_matrix import DirectionsMatrix\n",
    "import random"
   ]
  },
  {
   "cell_type": "code",
   "execution_count": 140,
   "metadata": {},
   "outputs": [],
   "source": [
    "locations = []\n",
    "mops = MongoOps()\n",
    "sample_data_files = [f for f in listdir(\"/data\") if isfile(join(\"/data\", f))]\n",
    "for open_house_file in sample_data_files:\n",
    "    parser = ICSParser(\"/data/%s\" % open_house_file)\n",
    "    event = parser.to_dict()\n",
    "    # print(event)\n",
    "    result = mops.safe_query_for_location_info(event)\n",
    "    locations += [result]"
   ]
  },
  {
   "cell_type": "code",
   "execution_count": 145,
   "metadata": {},
   "outputs": [],
   "source": [
    "def random_combination(iterable, r):\n",
    "    \"Random selection from itertools.combinations(iterable, r)\"\n",
    "    pool = tuple(iterable)\n",
    "    n = len(pool)\n",
    "    indices = sorted(random.sample(range(n), r))\n",
    "    return tuple(pool[i] for i in indices)\n",
    "\n",
    "random_locations = random_combination(locations, 5)"
   ]
  },
  {
   "cell_type": "code",
   "execution_count": 146,
   "metadata": {},
   "outputs": [],
   "source": [
    "DM = DirectionsMatrix(random_locations, mops)"
   ]
  },
  {
   "cell_type": "code",
   "execution_count": 147,
   "metadata": {},
   "outputs": [],
   "source": [
    "DM.generate_simplified_directions_matrix()"
   ]
  },
  {
   "cell_type": "code",
   "execution_count": 148,
   "metadata": {},
   "outputs": [],
   "source": [
    "sdm = DM.simplified_directions_matrix"
   ]
  },
  {
   "cell_type": "code",
   "execution_count": 149,
   "metadata": {},
   "outputs": [
    {
     "name": "stdout",
     "output_type": "stream",
     "text": [
      "900 (540.000000), 1100 (660.000000)\n",
      "1000 (600.000000), 1200 (720.000000)\n",
      "1000 (600.000000), 1200 (720.000000)\n",
      "1100 (660.000000), 1300 (780.000000)\n",
      "1200 (720.000000), 1400 (840.000000)\n"
     ]
    }
   ],
   "source": [
    "# Showing off EST/EDT time of day of the open houses and the conversion to minutes from midnight that day\n",
    "for i in range(len(sdm)):\n",
    "    start = int(sdm[i]['dtstart'][9:-3])-600\n",
    "    start_minutes = 6./10*start\n",
    "    end = int(sdm[i]['dtend'][9:-3])-600\n",
    "    end_minutes = 6./10*end\n",
    "    print('%d (%f), %d (%f)' % (start, start_minutes, end, end_minutes))\n",
    "    start = sdm[i]['start'] = start\n",
    "    start_minutes = sdm[i]['start_minutes'] = start_minutes\n",
    "    end = sdm[i]['end'] = end\n",
    "    end_minutes = sdm[i]['end_minutes'] = end_minutes"
   ]
  },
  {
   "cell_type": "code",
   "execution_count": 150,
   "metadata": {},
   "outputs": [],
   "source": [
    "vertices = []\n",
    "V = None\n",
    "for i in range(len(sdm)):\n",
    "    V = {'ID' : i, \n",
    "               'start' : sdm[i]['start_minutes'], \n",
    "               'end' : sdm[i]['end_minutes'], \n",
    "               'edges' : sdm[i]['durations'],\n",
    "               'address_hash' : sdm[i]['address_hash']}\n",
    "    vertices += [V]"
   ]
  },
  {
   "cell_type": "code",
   "execution_count": 151,
   "metadata": {},
   "outputs": [],
   "source": [
    "def been_visited(visited, v):\n",
    "    '''\n",
    "    Checks to make sure you're not going back to a node that has already been visited.\n",
    "    '''\n",
    "    return v in visited"
   ]
  },
  {
   "cell_type": "code",
   "execution_count": 152,
   "metadata": {},
   "outputs": [],
   "source": [
    "\"\"\" \n",
    "A Python Class\n",
    "A simple Python graph class, demonstrating the essential \n",
    "facts and functionalities of graphs.\n",
    "Original implementation from https://www.python-course.eu/graphs_python.php\n",
    "Changes to include weighted edges from https://towardsdatascience.com/to-all-data-scientists-the-one-graph-algorithm-you-need-to-know-59178dbb1ec2\n",
    "Some functions have been removed because they are not \n",
    "going to be used, and I would like to protect future \n",
    "users from using this graph object incorrectly.\n",
    "\"\"\"\n",
    "\n",
    "class Graph(object):\n",
    "    def __init__(self, graph_dict=None):\n",
    "        \"\"\" initializes a graph object \n",
    "            If no dictionary or None is given, \n",
    "            an empty dictionary will be used\n",
    "        \"\"\"\n",
    "        if graph_dict == None:\n",
    "            graph_dict = {}\n",
    "        self.__graph_dict = graph_dict\n",
    "        self.__vertices = self.vertices()\n",
    "\n",
    "    def vertex_ids(self):\n",
    "        \"\"\" returns the vertices of a graph \"\"\"\n",
    "        vertices = []\n",
    "        for val in self.__graph_dict:\n",
    "            vertices += [val['ID']]\n",
    "        self.__vertices = vertices\n",
    "        return list(self.__vertices)\n",
    "    \n",
    "    def vertices(self):\n",
    "        \"\"\" returns the vertices of a graph \"\"\"\n",
    "        vertices = []\n",
    "        for val in self.__graph_dict:\n",
    "            ver = self.__removekey(val, 'edges')\n",
    "            vertices += [ver]\n",
    "        self.__vertices = vertices\n",
    "        return list(self.__vertices)\n",
    "    \n",
    "    def get_vertex_from_vid(self, vid):\n",
    "        ''' \n",
    "        returns the vertex given its id.\n",
    "        I would LIKE to assume that the vertex's id will match its location in\n",
    "        graph_dict, but I won't in the case that someone passes in an irregualar\n",
    "        graph_dict to the Graph object.\n",
    "        '''\n",
    "        vertex = None\n",
    "        for val in self.__graph_dict:\n",
    "            if val['ID'] == vid:\n",
    "                vertex = val\n",
    "        if vertex == None:\n",
    "            raise Exception('Vertex ID provided not found.')\n",
    "        return vertex\n",
    "\n",
    "    def edges(self):\n",
    "        \"\"\" returns the edges of a graph \"\"\"\n",
    "        return self.__generate_edges()\n",
    "    \n",
    "    def get_edges_from_vid(self, vid):\n",
    "        ''' \n",
    "        returns the edges from a vertex, given its id.\n",
    "        '''\n",
    "        vertex = self.get_vertex_from_vid(vid)\n",
    "        edges = self.get_edges(vertex)\n",
    "        return edges\n",
    "\n",
    "    def __generate_edges(self):\n",
    "        \"\"\" A static method generating the edges of the \n",
    "            graph \"graph\". Edges are represented as sets \n",
    "            with one (a loop back to the vertex) or two \n",
    "            vertices \n",
    "        \"\"\"\n",
    "        edges = []\n",
    "        for vertex in self.__graph_dict:\n",
    "            edges += self.get_edges(vertex)\n",
    "        return edges\n",
    "\n",
    "    def get_edges(self, vertex):\n",
    "        edges = []\n",
    "        for neighbour in vertex['edges']:\n",
    "            weight = neighbour[1]\n",
    "            neighbour = neighbour[0]\n",
    "            v = vertex['ID']\n",
    "            if (neighbour, vertex, weight) not in edges:\n",
    "                edges.append([v, neighbour, weight])\n",
    "        return edges\n",
    "    \n",
    "    def __str__(self):\n",
    "        res = \"vertices:\\n\"\n",
    "        for k in self.__vertices:\n",
    "            res += str(k) + \" \\n\"\n",
    "        res += \"\\nedges:\\n\"\n",
    "        for edge in self.__generate_edges():\n",
    "            res += str(edge) + \" \"\n",
    "        return res\n",
    "\n",
    "    def adj_mat(self):\n",
    "        return self.__graph_dict\n",
    "    \n",
    "    def __removekey(self, d, key):\n",
    "        r = dict(d)\n",
    "        del r[key]\n",
    "        return r"
   ]
  },
  {
   "cell_type": "code",
   "execution_count": 153,
   "metadata": {
    "scrolled": true
   },
   "outputs": [
    {
     "name": "stdout",
     "output_type": "stream",
     "text": [
      "vertices:\n",
      "{'ID': 0, 'start': 540.0, 'end': 660.0, 'address_hash': b'\\x08\\xfa{s@-G\\xa0N5\\xbf:e\\xfc(\\x004\\x82\\xa7#'} \n",
      "{'ID': 1, 'start': 600.0, 'end': 720.0, 'address_hash': b'\\x7fn\\xf1\\x15\\x03\\x81\\xd5\\xc3\\x06\\x11\\x133\\xdd1#\\x1f\\xbe\\x84y\\xce'} \n",
      "{'ID': 2, 'start': 600.0, 'end': 720.0, 'address_hash': b'\\xe2s\\xe0\\x1aA\\xd7;\\xd2-\\x05\\xb4}{\\x8d\\xaa\\tK\\xfe\\x06t'} \n",
      "{'ID': 3, 'start': 660.0, 'end': 780.0, 'address_hash': b'\\xaa\\x84qy\\x08\\x8f\\x18)\\xf1\\x8b3\\xa2R\\xbde\\xc2M6N\\x87'} \n",
      "{'ID': 4, 'start': 720.0, 'end': 840.0, 'address_hash': b'F\\xeb\\x03\\xfe\\xad\\t\\x9a\\x8e\\xae\\x0fv\\xaeV\\xe9\\xbd@\\tkV\\x9f'} \n",
      "\n",
      "edges:\n",
      "[0, 1, 22.74] [0, 2, 19.05] [0, 3, 12.05] [0, 4, 16.33] [1, 0, 20.27] [1, 2, 8.12] [1, 3, 18.21] [1, 4, 11.42] [2, 0, 17.13] [2, 1, 8.62] [2, 3, 14.31] [2, 4, 8.4] [3, 0, 11.96] [3, 1, 19.19] [3, 2, 14.25] [3, 4, 16.32] [4, 0, 15.3] [4, 1, 11.93] [4, 2, 8.37] [4, 3, 17.16] \n"
     ]
    }
   ],
   "source": [
    "graph = Graph(vertices)\n",
    "print(graph)"
   ]
  },
  {
   "cell_type": "code",
   "execution_count": 155,
   "metadata": {},
   "outputs": [
    {
     "name": "stdout",
     "output_type": "stream",
     "text": [
      "[[0, 1, 22.74], [0, 2, 19.05], [0, 3, 12.05], [0, 4, 16.33]]\n"
     ]
    }
   ],
   "source": [
    "print(graph.get_edges_from_vid(0))"
   ]
  },
  {
   "cell_type": "code",
   "execution_count": 156,
   "metadata": {},
   "outputs": [],
   "source": [
    "'''\n",
    "For the sake of initial testing, I am going to start by going to the first house on the list (ID = 0).\n",
    "Also, the starting time will be that starting time of the vertex we're starting with.\n",
    "    A better starting time can be defined later (i.e. when routing is solved).\n",
    "'''\n",
    "starting_id = 0\n",
    "starting_vertex = graph.get_vertex_from_vid(starting_id)\n",
    "start_time = starting_vertex['start']"
   ]
  },
  {
   "cell_type": "code",
   "execution_count": 157,
   "metadata": {},
   "outputs": [],
   "source": [
    "def visit_next(graph, current_vertex, arrival_time, average_time_at_each_house = 30, visited = []):\n",
    "    idx = current_vertex['ID']\n",
    "    print('Arrived at vertex %d at time %f' % (idx, arrival_time))\n",
    "    visited += [idx]\n",
    "    arrival_time += average_time_at_each_house\n",
    "    \n",
    "    print('Leaving at vertex %d at time %f' % (idx, arrival_time))\n",
    "    \n",
    "    edges = graph.get_edges(current_vertex)\n",
    "    edges_no_cycle = get_acyclic_edges(edges, visited)\n",
    "    \n",
    "    print(visited, edges_no_cycle)\n",
    "    \n",
    "    if len(edges_no_cycle) > 0:\n",
    "        selected_edge = edges_no_cycle[0]\n",
    "        next_vertex = graph.get_vertex_from_vid(selected_edge[1])\n",
    "        arrival_time += selected_edge[2]\n",
    "        return visit_next(graph, next_vertex, arrival_time, visited = visited)\n",
    "    else:\n",
    "        hours_minutes = str(arrival_time / 60).split('.')\n",
    "        hours_minutes[0] = hours_minutes[0]\n",
    "        hours_minutes[1] = str(float('0.'+hours_minutes[1]) * .6)[2:4]\n",
    "        \n",
    "        print(hours_minutes)\n",
    "        return visited, '%s:%s' %(hours_minutes[0], hours_minutes[1])\n",
    "    \n",
    "\n",
    "def get_acyclic_edges(edges, visited):\n",
    "    E = []\n",
    "    for edge in edges:\n",
    "        idx = edge[1]\n",
    "        if been_visited(visited, idx):\n",
    "            pass\n",
    "        else:\n",
    "            E += [edge]\n",
    "    return E\n",
    "        \n",
    "def been_visited(visited, v):\n",
    "    '''\n",
    "    Checks to make sure you're not going back to a node that has already been visited.\n",
    "    '''\n",
    "    return v in visited"
   ]
  },
  {
   "cell_type": "code",
   "execution_count": 158,
   "metadata": {},
   "outputs": [
    {
     "name": "stdout",
     "output_type": "stream",
     "text": [
      "Arrived at vertex 0 at time 540.000000\n",
      "Leaving at vertex 0 at time 570.000000\n",
      "[0] [[0, 1, 22.74], [0, 2, 19.05], [0, 3, 12.05], [0, 4, 16.33]]\n",
      "Arrived at vertex 1 at time 592.740000\n",
      "Leaving at vertex 1 at time 622.740000\n",
      "[0, 1] [[1, 2, 8.12], [1, 3, 18.21], [1, 4, 11.42]]\n",
      "Arrived at vertex 2 at time 630.860000\n",
      "Leaving at vertex 2 at time 660.860000\n",
      "[0, 1, 2] [[2, 3, 14.31], [2, 4, 8.4]]\n",
      "Arrived at vertex 3 at time 675.170000\n",
      "Leaving at vertex 3 at time 705.170000\n",
      "[0, 1, 2, 3] [[3, 4, 16.32]]\n",
      "Arrived at vertex 4 at time 721.490000\n",
      "Leaving at vertex 4 at time 751.490000\n",
      "[0, 1, 2, 3, 4] []\n",
      "['12', '31']\n"
     ]
    },
    {
     "data": {
      "text/plain": [
       "([0, 1, 2, 3, 4], '12:31')"
      ]
     },
     "execution_count": 158,
     "metadata": {},
     "output_type": "execute_result"
    }
   ],
   "source": [
    "visit_next(graph, starting_vertex, start_time)"
   ]
  },
  {
   "cell_type": "code",
   "execution_count": null,
   "metadata": {},
   "outputs": [],
   "source": []
  }
 ],
 "metadata": {
  "kernelspec": {
   "display_name": "Python 3",
   "language": "python",
   "name": "python3"
  },
  "language_info": {
   "codemirror_mode": {
    "name": "ipython",
    "version": 3
   },
   "file_extension": ".py",
   "mimetype": "text/x-python",
   "name": "python",
   "nbconvert_exporter": "python",
   "pygments_lexer": "ipython3",
   "version": "3.6.7"
  }
 },
 "nbformat": 4,
 "nbformat_minor": 2
}
