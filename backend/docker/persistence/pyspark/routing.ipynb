{
 "cells": [
  {
   "cell_type": "code",
   "execution_count": 1,
   "metadata": {},
   "outputs": [],
   "source": [
    "import json\n",
    "import numpy as np\n",
    "from pprint import pprint\n",
    "from os import listdir\n",
    "from os.path import isfile, join\n",
    "from MongoOps import MongoOps\n",
    "from ICSParser import ICSParser\n",
    "from make_directions_matrix import DirectionsMatrix\n",
    "import random"
   ]
  },
  {
   "cell_type": "code",
   "execution_count": 2,
   "metadata": {},
   "outputs": [],
   "source": [
    "locations = []\n",
    "mops = MongoOps()\n",
    "sample_data_files = [f for f in listdir(\"/data\") if isfile(join(\"/data\", f))]\n",
    "for open_house_file in sample_data_files:\n",
    "    parser = ICSParser(\"/data/%s\" % open_house_file)\n",
    "    event = parser.to_dict()\n",
    "    # print(event)\n",
    "    result = mops.safe_query_for_location_info(event)\n",
    "    locations += [result]"
   ]
  },
  {
   "cell_type": "code",
   "execution_count": 3,
   "metadata": {},
   "outputs": [],
   "source": [
    "def random_combination(iterable, r):\n",
    "    '''\n",
    "    This function helps test different scenarios.\n",
    "    '''\n",
    "    pool = tuple(iterable)\n",
    "    n = len(pool)\n",
    "    indices = sorted(random.sample(range(n), r))\n",
    "    return tuple(pool[i] for i in indices)\n",
    "\n",
    "random_locations = random_combination(locations, 5)"
   ]
  },
  {
   "cell_type": "code",
   "execution_count": 4,
   "metadata": {},
   "outputs": [],
   "source": [
    "DM = DirectionsMatrix(random_locations, mops)"
   ]
  },
  {
   "cell_type": "code",
   "execution_count": 5,
   "metadata": {},
   "outputs": [],
   "source": [
    "DM.generate_simplified_directions_matrix()"
   ]
  },
  {
   "cell_type": "code",
   "execution_count": 6,
   "metadata": {},
   "outputs": [],
   "source": [
    "sdm = DM.simplified_directions_matrix"
   ]
  },
  {
   "cell_type": "code",
   "execution_count": 7,
   "metadata": {},
   "outputs": [
    {
     "name": "stdout",
     "output_type": "stream",
     "text": [
      "1100 (660.000000), 1400 (840.000000)\n",
      "900 (540.000000), 1100 (660.000000)\n",
      "1200 (720.000000), 1400 (840.000000)\n",
      "1000 (600.000000), 1200 (720.000000)\n",
      "1100 (660.000000), 1300 (780.000000)\n"
     ]
    }
   ],
   "source": [
    "# Showing off EST/EDT time of day of the open houses and the conversion to minutes from midnight that day\n",
    "for i in range(len(sdm)):\n",
    "    start = int(sdm[i]['dtstart'][9:-3])-600\n",
    "    start_minutes = 6./10*start\n",
    "    end = int(sdm[i]['dtend'][9:-3])-600\n",
    "    end_minutes = 6./10*end\n",
    "    print('%d (%f), %d (%f)' % (start, start_minutes, end, end_minutes))\n",
    "    start = sdm[i]['start'] = start\n",
    "    start_minutes = sdm[i]['start_minutes'] = start_minutes\n",
    "    end = sdm[i]['end'] = end\n",
    "    end_minutes = sdm[i]['end_minutes'] = end_minutes"
   ]
  },
  {
   "cell_type": "code",
   "execution_count": 125,
   "metadata": {},
   "outputs": [],
   "source": [
    "vertices = []\n",
    "V = None\n",
    "for i in range(len(sdm)):\n",
    "    V = {'ID' : i, \n",
    "               'start' : sdm[i]['start_minutes'], \n",
    "               'end' : sdm[i]['end_minutes'], \n",
    "               'edges' : sdm[i]['durations'],\n",
    "               'address_hash' : sdm[i]['address_hash']}\n",
    "    vertices += [V]"
   ]
  },
  {
   "cell_type": "code",
   "execution_count": 126,
   "metadata": {},
   "outputs": [],
   "source": [
    "def been_visited(visited, v):\n",
    "    '''\n",
    "    Checks to make sure you're not going back to a node that has already been visited.\n",
    "    '''\n",
    "    return v in visited"
   ]
  },
  {
   "cell_type": "code",
   "execution_count": 127,
   "metadata": {},
   "outputs": [],
   "source": [
    "\"\"\" \n",
    "A Python Class\n",
    "A simple Python graph class, demonstrating the essential \n",
    "facts and functionalities of graphs.\n",
    "Original implementation from https://www.python-course.eu/graphs_python.php\n",
    "Changes to include weighted edges from https://towardsdatascience.com/to-all-data-scientists-the-one-graph-algorithm-you-need-to-know-59178dbb1ec2\n",
    "Some functions have been removed because they are not \n",
    "going to be used, and I would like to protect future \n",
    "users from using this graph object incorrectly.\n",
    "\"\"\"\n",
    "\n",
    "class Graph(object):\n",
    "    def __init__(self, graph_dict=None):\n",
    "        \"\"\" initializes a graph object \n",
    "            If no dictionary or None is given, \n",
    "            an empty dictionary will be used\n",
    "        \"\"\"\n",
    "        if graph_dict == None:\n",
    "            graph_dict = {}\n",
    "        self.__graph_dict = graph_dict\n",
    "        self.__vertices = self.vertices()\n",
    "\n",
    "    def vertex_ids(self):\n",
    "        \"\"\" returns the vertices of a graph \"\"\"\n",
    "        vertices = []\n",
    "        for val in self.__graph_dict:\n",
    "            vertices += [val['ID']]\n",
    "        self.__vertices = vertices\n",
    "        return list(self.__vertices)\n",
    "    \n",
    "    def vertices(self):\n",
    "        \"\"\" returns the vertices of a graph \"\"\"\n",
    "        vertices = []\n",
    "        for val in self.__graph_dict:\n",
    "            ver = self.__removekey(val, 'edges')\n",
    "            vertices += [ver]\n",
    "        self.__vertices = vertices\n",
    "        return list(self.__vertices)\n",
    "    \n",
    "    def get_vertex_from_vid(self, vid):\n",
    "        ''' \n",
    "        returns the vertex given its id.\n",
    "        I would LIKE to assume that the vertex's id will match its location in\n",
    "        graph_dict, but I won't in the case that someone passes in an irregualar\n",
    "        graph_dict to the Graph object.\n",
    "        '''\n",
    "        vertex = None\n",
    "        for val in self.__graph_dict:\n",
    "            if val['ID'] == vid:\n",
    "                vertex = val\n",
    "        if vertex == None:\n",
    "            raise Exception('Vertex ID provided not found.')\n",
    "        return vertex\n",
    "\n",
    "    def edges(self):\n",
    "        \"\"\" returns the edges of a graph \"\"\"\n",
    "        return self.__generate_edges()\n",
    "    \n",
    "    def get_edges_from_vid(self, vid):\n",
    "        ''' \n",
    "        returns the edges from a vertex, given its id.\n",
    "        '''\n",
    "        vertex = self.get_vertex_from_vid(vid)\n",
    "        edges = self.get_edges(vertex)\n",
    "        return edges\n",
    "\n",
    "    def __generate_edges(self):\n",
    "        \"\"\" A static method generating the edges of the \n",
    "            graph \"graph\". Edges are represented as sets \n",
    "            with one (a loop back to the vertex) or two \n",
    "            vertices \n",
    "        \"\"\"\n",
    "        edges = []\n",
    "        for vertex in self.__graph_dict:\n",
    "            edges += self.get_edges(vertex)\n",
    "        return edges\n",
    "\n",
    "    def get_edges(self, vertex):\n",
    "        edges = []\n",
    "        for neighbour in vertex['edges']:\n",
    "            weight = neighbour[1]\n",
    "            neighbour = neighbour[0]\n",
    "            v = vertex['ID']\n",
    "            if (neighbour, vertex, weight) not in edges:\n",
    "                edges.append([v, neighbour, weight])\n",
    "        return edges\n",
    "    \n",
    "    def __str__(self):\n",
    "        res = \"vertices:\\n\"\n",
    "        for k in self.__vertices:\n",
    "            res += str(k) + \" \\n\"\n",
    "        res += \"\\nedges:\\n\"\n",
    "        for edge in self.__generate_edges():\n",
    "            res += str(edge) + \" \"\n",
    "        return res\n",
    "\n",
    "    def adj_mat(self):\n",
    "        return self.__graph_dict\n",
    "    \n",
    "    def __removekey(self, d, key):\n",
    "        r = dict(d)\n",
    "        del r[key]\n",
    "        return r"
   ]
  },
  {
   "cell_type": "code",
   "execution_count": 128,
   "metadata": {
    "scrolled": true
   },
   "outputs": [
    {
     "name": "stdout",
     "output_type": "stream",
     "text": [
      "vertices:\n",
      "{'ID': 0, 'start': 660.0, 'end': 840.0, 'address_hash': b'\\xb0\\xb2\\x10xT,\\x10\\x84\\xe9\\xa7\\xf31\\xe4\\x12\\xad\\xb8\"N\\x19\\xf1'} \n",
      "{'ID': 1, 'start': 540.0, 'end': 660.0, 'address_hash': b'\\x08\\xfa{s@-G\\xa0N5\\xbf:e\\xfc(\\x004\\x82\\xa7#'} \n",
      "{'ID': 2, 'start': 720.0, 'end': 840.0, 'address_hash': b'`\\x80a\\xb0N\\xf5\\xbe!\\xc2\\xcd\\xd6\\xab\\x86\\xa9z\\xb9\\xf2\\xc2\\x86Z'} \n",
      "{'ID': 3, 'start': 600.0, 'end': 720.0, 'address_hash': b'\\xe2s\\xe0\\x1aA\\xd7;\\xd2-\\x05\\xb4}{\\x8d\\xaa\\tK\\xfe\\x06t'} \n",
      "{'ID': 4, 'start': 660.0, 'end': 780.0, 'address_hash': b'\\xaa\\x84qy\\x08\\x8f\\x18)\\xf1\\x8b3\\xa2R\\xbde\\xc2M6N\\x87'} \n",
      "\n",
      "edges:\n",
      "[0, 1, 40.45] [0, 2, 36.66] [0, 3, 25.56] [0, 4, 28.85] [1, 0, 41.73] [1, 2, 7.47] [1, 3, 19.05] [1, 4, 12.05] [2, 0, 36.25] [2, 1, 7.36] [2, 3, 19.4] [2, 4, 10.63] [3, 0, 25.0] [3, 1, 17.13] [3, 2, 18.81] [3, 4, 14.31] [4, 0, 27.43] [4, 1, 11.96] [4, 2, 9.52] [4, 3, 14.25] \n"
     ]
    }
   ],
   "source": [
    "graph = Graph(vertices)\n",
    "print(graph)"
   ]
  },
  {
   "cell_type": "code",
   "execution_count": 120,
   "metadata": {},
   "outputs": [
    {
     "name": "stdout",
     "output_type": "stream",
     "text": [
      "[[0, 1, 40.45], [0, 2, 36.66], [0, 3, 25.56], [0, 4, 28.85]]\n"
     ]
    }
   ],
   "source": [
    "print(graph.get_edges_from_vid(0))"
   ]
  },
  {
   "cell_type": "code",
   "execution_count": 181,
   "metadata": {},
   "outputs": [],
   "source": [
    "def visit_next(graph, current_vertex, arrival_time, average_time_at_each_house = 30, visited = []):\n",
    "    current_time = arrival_time\n",
    "    idx = current_vertex['ID']\n",
    "    print('Arrived at vertex %d at time %f' % (idx, arrival_time))\n",
    "    visited += [idx]\n",
    "    current_time += average_time_at_each_house\n",
    "    \n",
    "    print('Leaving at vertex %d at time %f' % (idx, current_time))\n",
    "    \n",
    "    edges = graph.get_edges(current_vertex)\n",
    "    edges_no_cycle = get_acyclic_edges(edges, visited)\n",
    "    print(edges_no_cycle)\n",
    "    \n",
    "    if len(edges_no_cycle) > 0:\n",
    "        for edge in edges_no_cycle:\n",
    "            next_vertex = graph.get_vertex_from_vid(edge[1])\n",
    "            current_time_1 = current_time + edge[2]\n",
    "            \n",
    "            \n",
    "            '''\n",
    "            Check if the Open house has started yet, and wait for it to open\n",
    "            if it hasn't closed yet.\n",
    "            '''\n",
    "            opened, closed = open_and_closed(current_time_1, next_vertex)\n",
    "            wait_function = get_wait_function(opened, closed)\n",
    "            current_time_2 = wait_function(next_vertex['start'], current_time_1)\n",
    "            if current_time_2 < 0:\n",
    "                continue\n",
    "            else:\n",
    "                return visit_next(graph, next_vertex, current_time_2, visited = visited)\n",
    "    print(visited)\n",
    "    print('---------------')\n",
    "    hours, minutes = convert_mins_to_time(current_time)\n",
    "\n",
    "    return visited, '%s:%s' %(hours, minutes)\n",
    "\n",
    "def get_acyclic_edges(edges, visited):\n",
    "    E = []\n",
    "    for edge in edges:\n",
    "        idx = edge[1]\n",
    "        if been_visited(visited, idx):\n",
    "            pass\n",
    "        else:\n",
    "            E += [edge]\n",
    "    return E\n",
    "        \n",
    "def been_visited(visited, v):\n",
    "    '''\n",
    "    Checks to make sure you're not going back to a node that has already been visited.\n",
    "    '''\n",
    "    return v in visited\n",
    "\n",
    "def open_and_closed(arrival_time, next_vertex):\n",
    "    opened = arrival_time >= next_vertex['start']\n",
    "    closed = arrival_time >= next_vertex['end']\n",
    "    return [opened, closed]\n",
    "\n",
    "def get_wait_function(opened, closed): #ideal True, True\n",
    "    if opened and not closed:\n",
    "        wait = \"No need to wait\"\n",
    "    elif not opened and not closed:\n",
    "        wait = \"Wait\"\n",
    "    elif opened and closed:\n",
    "        wait = \"Too late\"\n",
    "    else:\n",
    "        wait = \"Time doesn't work that way!\"\n",
    "    wait_function = {\n",
    "        \"No need to wait\" : lambda opens_at, current_time : current_time,\n",
    "        \"Wait\" : lambda opens_at, current_time : opens_at,\n",
    "        \"Too late\" : lambda opens_at, current_time : -1,\n",
    "        \"Time doesn't work that way!\" : lambda opens_at, current_time : -1\n",
    "    }\n",
    "    return wait_function[wait]\n",
    "    \n",
    "def convert_mins_to_time(time):\n",
    "    hours_minutes = str(time / 60).split('.')\n",
    "    hours_minutes[0] = hours_minutes[0]\n",
    "    hours_minutes[1] = str(float('0.'+hours_minutes[1]) * .6)[2:4]\n",
    "    return hours_minutes[0], hours_minutes[1]"
   ]
  },
  {
   "cell_type": "code",
   "execution_count": 182,
   "metadata": {},
   "outputs": [
    {
     "name": "stdout",
     "output_type": "stream",
     "text": [
      "{'ID': 0, 'start': 660.0, 'end': 840.0, 'edges': [[1, 40.45], [2, 36.66], [3, 25.56], [4, 28.85]], 'address_hash': b'\\xb0\\xb2\\x10xT,\\x10\\x84\\xe9\\xa7\\xf31\\xe4\\x12\\xad\\xb8\"N\\x19\\xf1'}\n",
      "{'ID': 0, 'start': 660.0, 'end': 840.0, 'edges': [[1, 40.45], [2, 36.66], [3, 25.56], [4, 28.85]], 'address_hash': b'\\xb0\\xb2\\x10xT,\\x10\\x84\\xe9\\xa7\\xf31\\xe4\\x12\\xad\\xb8\"N\\x19\\xf1'}\n",
      "Arrived at vertex 0 at time 660.000000\n",
      "Leaving at vertex 0 at time 690.000000\n",
      "[[0, 1, 40.45], [0, 2, 36.66], [0, 3, 25.56], [0, 4, 28.85]]\n",
      "Arrived at vertex 2 at time 726.660000\n",
      "Leaving at vertex 2 at time 756.660000\n",
      "[[2, 1, 7.36], [2, 3, 19.4], [2, 4, 10.63]]\n",
      "Arrived at vertex 4 at time 767.290000\n",
      "Leaving at vertex 4 at time 797.290000\n",
      "[[4, 1, 11.96], [4, 3, 14.25]]\n",
      "[0, 2, 4]\n",
      "---------------\n"
     ]
    },
    {
     "data": {
      "text/plain": [
       "([0, 2, 4], '13:17')"
      ]
     },
     "execution_count": 182,
     "metadata": {},
     "output_type": "execute_result"
    }
   ],
   "source": [
    "'''\n",
    "For the sake of initial testing, I am going to start by going to the first house on the list (ID = 0).\n",
    "Also, the starting time will be that starting time of the vertex we're starting with.\n",
    "    A better starting time can be defined later (i.e. when routing is solved).\n",
    "'''\n",
    "starting_id = 0\n",
    "starting_vertex = graph.get_vertex_from_vid(starting_id)\n",
    "print(starting_vertex)\n",
    "start_time = starting_vertex['start']\n",
    "\n",
    "print(starting_vertex)\n",
    "visit_next(graph, starting_vertex, start_time, visited=[])"
   ]
  },
  {
   "cell_type": "code",
   "execution_count": 183,
   "metadata": {},
   "outputs": [],
   "source": [
    "V = graph.vertices()"
   ]
  },
  {
   "cell_type": "code",
   "execution_count": 184,
   "metadata": {},
   "outputs": [
    {
     "name": "stdout",
     "output_type": "stream",
     "text": [
      "Arrived at vertex 0 at time 660.000000\n",
      "Leaving at vertex 0 at time 690.000000\n",
      "[[0, 1, 40.45], [0, 2, 36.66], [0, 3, 25.56], [0, 4, 28.85]]\n",
      "Arrived at vertex 2 at time 726.660000\n",
      "Leaving at vertex 2 at time 756.660000\n",
      "[[2, 1, 7.36], [2, 3, 19.4], [2, 4, 10.63]]\n",
      "Arrived at vertex 4 at time 767.290000\n",
      "Leaving at vertex 4 at time 797.290000\n",
      "[[4, 1, 11.96], [4, 3, 14.25]]\n",
      "[0, 2, 4]\n",
      "---------------\n",
      "Arrived at vertex 1 at time 540.000000\n",
      "Leaving at vertex 1 at time 570.000000\n",
      "[[1, 0, 41.73], [1, 2, 7.47], [1, 3, 19.05], [1, 4, 12.05]]\n",
      "Arrived at vertex 0 at time 660.000000\n",
      "Leaving at vertex 0 at time 690.000000\n",
      "[[0, 2, 36.66], [0, 3, 25.56], [0, 4, 28.85]]\n",
      "Arrived at vertex 2 at time 726.660000\n",
      "Leaving at vertex 2 at time 756.660000\n",
      "[[2, 3, 19.4], [2, 4, 10.63]]\n",
      "Arrived at vertex 4 at time 767.290000\n",
      "Leaving at vertex 4 at time 797.290000\n",
      "[[4, 3, 14.25]]\n",
      "[1, 0, 2, 4]\n",
      "---------------\n",
      "Arrived at vertex 2 at time 720.000000\n",
      "Leaving at vertex 2 at time 750.000000\n",
      "[[2, 0, 36.25], [2, 1, 7.36], [2, 3, 19.4], [2, 4, 10.63]]\n",
      "Arrived at vertex 0 at time 786.250000\n",
      "Leaving at vertex 0 at time 816.250000\n",
      "[[0, 1, 40.45], [0, 3, 25.56], [0, 4, 28.85]]\n",
      "[2, 0]\n",
      "---------------\n",
      "Arrived at vertex 3 at time 600.000000\n",
      "Leaving at vertex 3 at time 630.000000\n",
      "[[3, 0, 25.0], [3, 1, 17.13], [3, 2, 18.81], [3, 4, 14.31]]\n",
      "Arrived at vertex 0 at time 660.000000\n",
      "Leaving at vertex 0 at time 690.000000\n",
      "[[0, 1, 40.45], [0, 2, 36.66], [0, 4, 28.85]]\n",
      "Arrived at vertex 2 at time 726.660000\n",
      "Leaving at vertex 2 at time 756.660000\n",
      "[[2, 1, 7.36], [2, 4, 10.63]]\n",
      "Arrived at vertex 4 at time 767.290000\n",
      "Leaving at vertex 4 at time 797.290000\n",
      "[[4, 1, 11.96]]\n",
      "[3, 0, 2, 4]\n",
      "---------------\n",
      "Arrived at vertex 4 at time 660.000000\n",
      "Leaving at vertex 4 at time 690.000000\n",
      "[[4, 0, 27.43], [4, 1, 11.96], [4, 2, 9.52], [4, 3, 14.25]]\n",
      "Arrived at vertex 0 at time 717.430000\n",
      "Leaving at vertex 0 at time 747.430000\n",
      "[[0, 1, 40.45], [0, 2, 36.66], [0, 3, 25.56]]\n",
      "Arrived at vertex 2 at time 784.090000\n",
      "Leaving at vertex 2 at time 814.090000\n",
      "[[2, 1, 7.36], [2, 3, 19.4]]\n",
      "[4, 0, 2]\n",
      "---------------\n",
      "[([0, 2, 4], '13:17'), ([1, 0, 2, 4], '13:17'), ([2, 0], '13:36'), ([3, 0, 2, 4], '13:17'), ([4, 0, 2], '13:34')]\n"
     ]
    }
   ],
   "source": [
    "paths = []\n",
    "for v in V:\n",
    "    starting_id = v['ID']\n",
    "    starting_vertex = graph.get_vertex_from_vid(starting_id)\n",
    "    start_time = starting_vertex['start']\n",
    "    paths += [visit_next(graph, starting_vertex, start_time, visited=[])]\n",
    "print(paths)"
   ]
  },
  {
   "cell_type": "code",
   "execution_count": null,
   "metadata": {},
   "outputs": [],
   "source": []
  }
 ],
 "metadata": {
  "kernelspec": {
   "display_name": "Python 3",
   "language": "python",
   "name": "python3"
  },
  "language_info": {
   "codemirror_mode": {
    "name": "ipython",
    "version": 3
   },
   "file_extension": ".py",
   "mimetype": "text/x-python",
   "name": "python",
   "nbconvert_exporter": "python",
   "pygments_lexer": "ipython3",
   "version": "3.6.7"
  }
 },
 "nbformat": 4,
 "nbformat_minor": 2
}
