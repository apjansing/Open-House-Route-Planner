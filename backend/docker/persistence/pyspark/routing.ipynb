{
 "cells": [
  {
   "cell_type": "code",
   "execution_count": 2,
   "metadata": {},
   "outputs": [],
   "source": [
    "import json\n",
    "import numpy as np\n",
    "from pprint import pprint\n",
    "from os import listdir\n",
    "from os.path import isfile, join\n",
    "from MongoOps import MongoOps\n",
    "from ICSParser import ICSParser\n",
    "from make_directions_matrix import DirectionsMatrix\n",
    "import random\n",
    "\n",
    "from OpenHouseGraph import *"
   ]
  },
  {
   "cell_type": "code",
   "execution_count": 31,
   "metadata": {},
   "outputs": [],
   "source": [
    "locations = []\n",
    "mops = MongoOps()\n",
    "sample_data_files = [f for f in listdir(\"/data\") if isfile(join(\"/data\", f))]\n",
    "for open_house_file in sample_data_files:\n",
    "    try:\n",
    "        parser = ICSParser(\"/data/%s\" % open_house_file)\n",
    "        event = parser.to_dict()\n",
    "        # print(event)\n",
    "        result = mops.safe_query_for_location_info(event)\n",
    "        locations += [result]\n",
    "    except:\n",
    "        pass\n",
    "\n",
    "random_locations = random_combination(locations, 7)\n",
    "DM = DirectionsMatrix(random_locations, mops)\n",
    "DM.generate_simplified_directions_matrix()\n",
    "sdm = DM.simplified_directions_matrix\n"
   ]
  },
  {
   "cell_type": "code",
   "execution_count": 32,
   "metadata": {},
   "outputs": [],
   "source": [
    "# Showing off EST/EDT time of day of the open houses and the conversion to minutes from midnight that day\n",
    "for i in range(len(sdm)):\n",
    "    start = int(sdm[i]['dtstart'][9:-3])-600\n",
    "    start_minutes = 6./10*start\n",
    "    end = int(sdm[i]['dtend'][9:-3])-600\n",
    "    end_minutes = 6./10*end\n",
    "    start = sdm[i]['start'] = start\n",
    "    start_minutes = sdm[i]['start_minutes'] = start_minutes\n",
    "    end = sdm[i]['end'] = end\n",
    "    end_minutes = sdm[i]['end_minutes'] = end_minutes\n",
    "vertices = []\n",
    "V = None\n",
    "for i in range(len(sdm)):\n",
    "    V = {'ID' : i, \n",
    "            'start' : sdm[i]['start_minutes'], \n",
    "            'end' : sdm[i]['end_minutes'], \n",
    "            'edges' : sdm[i]['durations'],\n",
    "            'address_hash' : sdm[i]['address_hash'],\n",
    "            'address' : sdm[i]['location']['address']}\n",
    "    vertices += [V]\n"
   ]
  },
  {
   "cell_type": "code",
   "execution_count": 33,
   "metadata": {},
   "outputs": [],
   "source": [
    "ohg = OpenHouseGraph(vertices)"
   ]
  },
  {
   "cell_type": "code",
   "execution_count": 34,
   "metadata": {},
   "outputs": [
    {
     "name": "stdout",
     "output_type": "stream",
     "text": [
      "[0, 1, 2, 4, 5]\n",
      "[0, 1, 2, 4, 5]\n",
      "[1, 0, 2, 4, 5]\n",
      "[1, 0, 2, 4, 5, 6]\n",
      "[3, 0, 1, 2, 4, 5]\n",
      "[3, 0, 1, 2, 4, 5]\n",
      "[3, 0, 1, 2, 4, 5, 6]\n",
      "[6, 0, 2, 4, 5]\n",
      "[6, 0, 2, 4, 5]\n",
      "7\n",
      "[[1, 0, 2, 4, 5, 6, 3], [3, 0, 1, 2, 4, 5, 6]]\n"
     ]
    }
   ],
   "source": [
    "paths = []\n",
    "for v in ohg.vertices():\n",
    "    starting_id = v['ID']\n",
    "    starting_vertex = ohg.get_vertex_from_vid(starting_id)\n",
    "    start_time = starting_vertex['start']\n",
    "    path = ohg.visit_next(starting_vertex, start_time, visited=[])\n",
    "    if len(path) > 0:\n",
    "        for p in path:\n",
    "            if p not in paths:\n",
    "                paths += [p]\n",
    "paths = np.array(paths)\n",
    "\n",
    "max_len = max([len(path) for path in paths])\n",
    "print(max_len)\n",
    "P = []\n",
    "for path in paths:\n",
    "    if len(path) >= max_len:\n",
    "        P += [path]\n",
    "print(P)"
   ]
  },
  {
   "cell_type": "code",
   "execution_count": 35,
   "metadata": {},
   "outputs": [
    {
     "name": "stdout",
     "output_type": "stream",
     "text": [
      "[{'ID': 0, 'start': 558.0, 'end': 660.0, 'edges': [[1, 15.28], [2, 13.67], [3, 23.51], [4, 54.0], [5, 18.09], [6, 41.01]], 'address_hash': b'\\xef\\x94\\xa6\\xe9\\x87\\xfe|\\x84O_\\xb1\\x12\\xe4W7@\\xff\\x96X/', 'address': '3720 oxford rd new hartford ny 13413'}, {'ID': 1, 'start': 540.0, 'end': 618.0, 'edges': [[0, 16.64], [2, 11.53], [3, 29.44], [4, 56.8], [5, 15.95], [6, 52.96]], 'address_hash': b'W\\xa1Yd\\x94\\xc1\\xabA\\xc5\\xb0G\\x96\\xbe?~\\xc3P\\xfcPg', 'address': '900 lansing st utica ny 13501'}, {'ID': 2, 'start': 660.0, 'end': 780.0, 'edges': [[0, 14.91], [1, 10.01], [3, 26.35], [4, 52.71], [5, 8.43], [6, 49.89]], 'address_hash': b'x\\tO\\x04\\xce\\xf7W!\\xebCW\\x1b\\x1e\\x85\\x11\\xb3\\xe0\\x02\\xa1Y', 'address': '5516 sunrise ter marcy ny 13403'}, {'ID': 3, 'start': 480.0, 'end': 600.0, 'edges': [[0, 23.26], [1, 27.5], [2, 25.87], [4, 33.41], [5, 24.77], [6, 39.46]], 'address_hash': b'+\\xc7\\xfa\\x8b\\xc0u#\\xfa\\xfd\\xdf\\xearJ\\xc7\\xb42\\xd7\\xd1\\x93\\xe8', 'address': '5668 youngs rd vernon ny 13476'}, {'ID': 4, 'start': 660.0, 'end': 780.0, 'edges': [[0, 54.74], [1, 52.14], [2, 50.12], [3, 33.89], [5, 46.83], [6, 56.24]], 'address_hash': b'\\x98T\\x04\\xa3\\xe086\\xb4\\xbf\\x94\\x04\\xdc\\xc7^\\x93\\x14\\xc9\\x16?\\x92', 'address': '1359 kinderhook rd chittenango ny 13037'}, {'ID': 5, 'start': 780.0, 'end': 900.0, 'edges': [[0, 18.63], [1, 13.93], [2, 9.28], [3, 24.16], [4, 47.4], [6, 53.84]], 'address_hash': b'g\\xb8J\\xbb\\x00L\\xcf3?\\xca\\x01\\x11\\x983\\xae\\xdfO<\\x82\\xea', 'address': '8678 old river rd marcy ny 13403'}, {'ID': 6, 'start': 540.0, 'end': 660.0, 'edges': [[0, 40.95], [1, 50.89], [2, 49.24], [3, 38.71], [4, 56.79], [5, 53.67]], 'address_hash': b'\\x13\\xcb\\x14s\\xb7\\xe0\\xe4\\x05\\x18\\xaa\\x82\\x13R\\xf5hme\\xa3\\xfb\\x8a', 'address': '69 e main st earlville ny 13332'}]\n",
      "------------------------- Showing path for [1, 0, 2, 4, 5, 6, 3]\n",
      "900 lansing st utica ny 13501\n",
      "3720 oxford rd new hartford ny 13413\n",
      "5516 sunrise ter marcy ny 13403\n",
      "1359 kinderhook rd chittenango ny 13037\n",
      "8678 old river rd marcy ny 13403\n",
      "69 e main st earlville ny 13332\n",
      "5668 youngs rd vernon ny 13476\n",
      "\n",
      "\n",
      "------------------------- Showing path for [3, 0, 1, 2, 4, 5, 6]\n",
      "5668 youngs rd vernon ny 13476\n",
      "3720 oxford rd new hartford ny 13413\n",
      "900 lansing st utica ny 13501\n",
      "5516 sunrise ter marcy ny 13403\n",
      "1359 kinderhook rd chittenango ny 13037\n",
      "8678 old river rd marcy ny 13403\n",
      "69 e main st earlville ny 13332\n",
      "\n",
      "\n"
     ]
    }
   ],
   "source": [
    "print(vertices)\n",
    "for path in P:\n",
    "    print('------------------------- Showing path for {}'.format(path))\n",
    "    for p in path:\n",
    "        print(vertices[p]['address'])\n",
    "    print('\\n')"
   ]
  },
  {
   "cell_type": "code",
   "execution_count": null,
   "metadata": {},
   "outputs": [],
   "source": []
  }
 ],
 "metadata": {
  "kernelspec": {
   "display_name": "Python 3",
   "language": "python",
   "name": "python3"
  },
  "language_info": {
   "codemirror_mode": {
    "name": "ipython",
    "version": 3
   },
   "file_extension": ".py",
   "mimetype": "text/x-python",
   "name": "python",
   "nbconvert_exporter": "python",
   "pygments_lexer": "ipython3",
   "version": "3.6.7"
  }
 },
 "nbformat": 4,
 "nbformat_minor": 2
}
