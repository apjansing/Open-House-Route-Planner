{
 "cells": [
  {
   "cell_type": "code",
   "execution_count": 1,
   "metadata": {},
   "outputs": [],
   "source": [
    "import json\n",
    "import numpy as np\n",
    "from pprint import pprint\n",
    "from os import listdir\n",
    "from os.path import isfile, join\n",
    "from MongoOps import MongoOps\n",
    "from ICSParser import ICSParser\n",
    "from make_directions_matrix import DirectionsMatrix"
   ]
  },
  {
   "cell_type": "code",
   "execution_count": 3,
   "metadata": {},
   "outputs": [],
   "source": [
    "locations = []\n",
    "mops = MongoOps()\n",
    "sample_data_files = [f for f in listdir(\"/data\") if isfile(join(\"/data\", f))]\n",
    "for open_house_file in sample_data_files:\n",
    "    parser = ICSParser(\"/data/%s\" % open_house_file)\n",
    "    event = parser.to_dict()\n",
    "    # print(event)\n",
    "    result = mops.safe_query_for_location_info(event)\n",
    "    locations += [result]"
   ]
  },
  {
   "cell_type": "code",
   "execution_count": 4,
   "metadata": {},
   "outputs": [],
   "source": [
    "DM = DirectionsMatrix(locations, mops)"
   ]
  },
  {
   "cell_type": "code",
   "execution_count": 5,
   "metadata": {},
   "outputs": [],
   "source": [
    "DM.generate_simplified_directions_matrix()"
   ]
  },
  {
   "cell_type": "code",
   "execution_count": 6,
   "metadata": {},
   "outputs": [],
   "source": [
    "sdm = DM.simplified_directions_matrix"
   ]
  },
  {
   "cell_type": "code",
   "execution_count": 7,
   "metadata": {},
   "outputs": [
    {
     "name": "stdout",
     "output_type": "stream",
     "text": [
      "1100 (660), 1400 (840)\n",
      "900 (540), 1100 (660)\n",
      "1000 (600), 1200 (720)\n",
      "1200 (720), 1400 (840)\n",
      "1000 (600), 1130 (678)\n",
      "1000 (600), 1200 (720)\n",
      "1000 (600), 1200 (720)\n",
      "1000 (600), 1200 (720)\n",
      "1100 (660), 1300 (780)\n",
      "1200 (720), 1400 (840)\n",
      "1100 (660), 1300 (780)\n"
     ]
    }
   ],
   "source": [
    "# Showing off EST/EDT time of day of the open houses and the conversion to minutes from midnight that day\n",
    "for i in range(len(sdm)):\n",
    "    start = int(sdm[i]['dtstart'][9:-3])-600\n",
    "    start_minutes = int(60/100*start)\n",
    "    end = int(sdm[i]['dtend'][9:-3])-600\n",
    "    end_minutes = int(60/100*end)\n",
    "    print('%d (%d), %d (%d)' % (start, start_minutes, end, end_minutes))\n",
    "    start = sdm[i]['start'] = start\n",
    "    start_minutes = sdm[i]['start_minutes'] = start_minutes\n",
    "    end = sdm[i]['end'] = end\n",
    "    end_minutes = sdm[i]['end_minutes'] = end_minutes"
   ]
  },
  {
   "cell_type": "code",
   "execution_count": 8,
   "metadata": {},
   "outputs": [],
   "source": [
    "vertices = []\n",
    "V = None\n",
    "for i in range(len(sdm)):\n",
    "    V = {'ID' : i, \n",
    "               'start' : sdm[i]['start_minutes'], \n",
    "               'end' : sdm[i]['end_minutes'], \n",
    "               'edges' : sdm[i]['durations'],\n",
    "               'address_hash' : sdm[i]['address_hash']}\n",
    "    vertices += [V]"
   ]
  },
  {
   "cell_type": "code",
   "execution_count": 9,
   "metadata": {},
   "outputs": [],
   "source": [
    "def been_visited(visited, v):\n",
    "    '''\n",
    "    Checks to make sure you're not going back to a node that has already been visited.\n",
    "    '''\n",
    "    return v in visited"
   ]
  },
  {
   "cell_type": "code",
   "execution_count": 10,
   "metadata": {},
   "outputs": [],
   "source": [
    "\"\"\" \n",
    "A Python Class\n",
    "A simple Python graph class, demonstrating the essential \n",
    "facts and functionalities of graphs.\n",
    "Original implementation from https://www.python-course.eu/graphs_python.php\n",
    "Changes to include weighted edges from https://towardsdatascience.com/to-all-data-scientists-the-one-graph-algorithm-you-need-to-know-59178dbb1ec2\n",
    "Some functions have been removed because they are not \n",
    "going to be used, and I would like to protect future \n",
    "users from using this graph object incorrectly.\n",
    "\"\"\"\n",
    "\n",
    "class Graph(object):\n",
    "    def __init__(self, graph_dict=None):\n",
    "        \"\"\" initializes a graph object \n",
    "            If no dictionary or None is given, \n",
    "            an empty dictionary will be used\n",
    "        \"\"\"\n",
    "        if graph_dict == None:\n",
    "            graph_dict = {}\n",
    "        self.__graph_dict = graph_dict\n",
    "        self.__vertices = self.vertices()\n",
    "\n",
    "    def vertex_ids(self):\n",
    "        \"\"\" returns the vertices of a graph \"\"\"\n",
    "        vertices = []\n",
    "        for val in self.__graph_dict:\n",
    "            vertices += [val['ID']]\n",
    "        self.__vertices = vertices\n",
    "        return list(self.__vertices)\n",
    "    \n",
    "    def vertices(self):\n",
    "        \"\"\" returns the vertices of a graph \"\"\"\n",
    "        vertices = []\n",
    "        for val in self.__graph_dict:\n",
    "            ver = self.__removekey(val, 'edges')\n",
    "            vertices += [ver]\n",
    "        self.__vertices = vertices\n",
    "        return list(self.__vertices)\n",
    "    \n",
    "    def get_vertex_from_vid(self, vid):\n",
    "        ''' \n",
    "        returns the vertex given its id.\n",
    "        I would LIKE to assume that the vertex's id will match its location in\n",
    "        graph_dict, but I won't in the case that someone passes in an irregualar\n",
    "        graph_dict to the Graph object.\n",
    "        '''\n",
    "        vertex = None\n",
    "        for val in self.__graph_dict:\n",
    "            if val['ID'] == vid:\n",
    "                vertex = val\n",
    "        if vertex == None:\n",
    "            raise Exception('Vertex ID provided not found.')\n",
    "        return vertex\n",
    "\n",
    "    def edges(self):\n",
    "        \"\"\" returns the edges of a graph \"\"\"\n",
    "        return self.__generate_edges()\n",
    "    \n",
    "    def get_edges_from_vid(self, vid):\n",
    "        ''' \n",
    "        returns the edges from a vertex, given its id.\n",
    "        '''\n",
    "        vertex = self.get_vertex_from_vid(vid)\n",
    "        edges = self.get_edges(vertex)\n",
    "        return edges\n",
    "\n",
    "    def __generate_edges(self):\n",
    "        \"\"\" A static method generating the edges of the \n",
    "            graph \"graph\". Edges are represented as sets \n",
    "            with one (a loop back to the vertex) or two \n",
    "            vertices \n",
    "        \"\"\"\n",
    "        edges = []\n",
    "        for vertex in self.__graph_dict:\n",
    "            edges += self.get_edges(vertex)\n",
    "        return edges\n",
    "\n",
    "    def get_edges(self, vertex):\n",
    "        edges = []\n",
    "        for neighbour in vertex['edges']:\n",
    "            weight = neighbour[1]\n",
    "            neighbour = neighbour[0]\n",
    "            v = vertex['ID']\n",
    "            if (neighbour, vertex, weight) not in edges:\n",
    "                edges.append([v, neighbour, weight])\n",
    "        return edges\n",
    "    \n",
    "    def __str__(self):\n",
    "        res = \"vertices:\\n\"\n",
    "        for k in self.__vertices:\n",
    "            res += str(k) + \" \\n\"\n",
    "        res += \"\\nedges:\\n\"\n",
    "        for edge in self.__generate_edges():\n",
    "            res += str(edge) + \" \"\n",
    "        return res\n",
    "\n",
    "    def adj_mat(self):\n",
    "        return self.__graph_dict\n",
    "    \n",
    "    def __removekey(self, d, key):\n",
    "        r = dict(d)\n",
    "        del r[key]\n",
    "        return r"
   ]
  },
  {
   "cell_type": "code",
   "execution_count": 11,
   "metadata": {
    "scrolled": true
   },
   "outputs": [
    {
     "name": "stdout",
     "output_type": "stream",
     "text": [
      "vertices:\n",
      "{'ID': 0, 'start': 660, 'end': 840, 'address_hash': b'\\xb0\\xb2\\x10xT,\\x10\\x84\\xe9\\xa7\\xf31\\xe4\\x12\\xad\\xb8\"N\\x19\\xf1'} \n",
      "{'ID': 1, 'start': 540, 'end': 660, 'address_hash': b'\\x08\\xfa{s@-G\\xa0N5\\xbf:e\\xfc(\\x004\\x82\\xa7#'} \n",
      "{'ID': 2, 'start': 600, 'end': 720, 'address_hash': b'\\xf4\\xd9\\xdd\\xc6\\xdaM~v\\xd8\\xfa\\x83X4\\xf4Q\\x05aO\\xc2\\xa1'} \n",
      "{'ID': 3, 'start': 720, 'end': 840, 'address_hash': b'`\\x80a\\xb0N\\xf5\\xbe!\\xc2\\xcd\\xd6\\xab\\x86\\xa9z\\xb9\\xf2\\xc2\\x86Z'} \n",
      "{'ID': 4, 'start': 600, 'end': 678, 'address_hash': b'jC\\xb6\\xfc\\xe8jgDQ\\x96\\x8a\\xc5\\x19s\\xcdX\\xcf\\xda]\\x0b'} \n",
      "{'ID': 5, 'start': 600, 'end': 720, 'address_hash': b'%(\\x82\\x85\\xe9Z\\xc3\\x06\\xed\\x91Z\\xe4\\xc2\\xf2\\xf5\\x9f\\xe7\\x98/h'} \n",
      "{'ID': 6, 'start': 600, 'end': 720, 'address_hash': b'\\x7fn\\xf1\\x15\\x03\\x81\\xd5\\xc3\\x06\\x11\\x133\\xdd1#\\x1f\\xbe\\x84y\\xce'} \n",
      "{'ID': 7, 'start': 600, 'end': 720, 'address_hash': b'\\xe2s\\xe0\\x1aA\\xd7;\\xd2-\\x05\\xb4}{\\x8d\\xaa\\tK\\xfe\\x06t'} \n",
      "{'ID': 8, 'start': 660, 'end': 780, 'address_hash': b'\\xaa\\x84qy\\x08\\x8f\\x18)\\xf1\\x8b3\\xa2R\\xbde\\xc2M6N\\x87'} \n",
      "{'ID': 9, 'start': 720, 'end': 840, 'address_hash': b'F\\xeb\\x03\\xfe\\xad\\t\\x9a\\x8e\\xae\\x0fv\\xaeV\\xe9\\xbd@\\tkV\\x9f'} \n",
      "{'ID': 10, 'start': 660, 'end': 780, 'address_hash': b'7\\xcb\\xf0V_\\xd1q\\xf7\\xb4\\x12\\xcd\\xca\\x94\\xf9\\xea\\xa9q|\\x1bi'} \n",
      "\n",
      "edges:\n",
      "[0, 1, 40.45] [0, 2, 40.98] [0, 3, 36.66] [0, 4, 10.72] [0, 5, 19.29] [0, 6, 25.2] [0, 7, 25.56] [0, 8, 28.85] [0, 9, 30.41] [0, 10, 7.08] [1, 0, 41.73] [1, 2, 10.9] [1, 3, 7.47] [1, 4, 30.56] [1, 5, 29.99] [1, 6, 22.74] [1, 7, 19.05] [1, 8, 12.05] [1, 9, 16.33] [1, 10, 39.07] [2, 0, 39.82] [2, 1, 8.67] [2, 3, 8.35] [2, 4, 28.57] [2, 5, 28.08] [2, 6, 20.75] [2, 7, 17.03] [2, 8, 12.09] [2, 9, 13.82] [2, 10, 37.16] [3, 0, 36.25] [3, 1, 7.36] [3, 2, 10.38] [3, 4, 30.28] [3, 5, 30.39] [3, 6, 23.09] [3, 7, 19.4] [3, 8, 10.63] [3, 9, 16.13] [3, 10, 39.47] [4, 0, 10.85] [4, 1, 28.11] [4, 2, 28.65] [4, 3, 28.09] [4, 5, 14.17] [4, 6, 14.4] [4, 7, 14.62] [4, 8, 20.23] [4, 9, 19.31] [4, 10, 17.58] [5, 0, 18.74] [5, 1, 28.5] [5, 2, 29.04] [5, 3, 29.78] [5, 4, 14.27] [5, 6, 16.84] [5, 7, 21.17] [5, 8, 29.79] [5, 9, 20.91] [5, 10, 13.06] [6, 0, 24.34] [6, 1, 20.27] [6, 2, 20.98] [6, 3, 21.72] [6, 4, 14.77] [6, 5, 17.07] [6, 7, 8.12] [6, 8, 18.21] [6, 9, 11.42] [6, 10, 26.09] [7, 0, 25.0] [7, 1, 17.13] [7, 2, 17.95] [7, 3, 18.81] [7, 4, 15.43] [7, 5, 20.18] [7, 6, 8.62] [7, 8, 14.31] [7, 9, 8.4] [7, 10, 29.25] [8, 0, 27.43] [8, 1, 11.96] [8, 2, 13.62] [8, 3, 9.52] [8, 4, 20.65] [8, 5, 28.88] [8, 6, 19.19] [8, 7, 14.25] [8, 9, 16.32] [8, 10, 34.87] [9, 0, 29.0] [9, 1, 15.3] [9, 2, 15.42] [9, 3, 15.78] [9, 4, 19.43] [9, 5, 20.35] [9, 6, 11.93] [9, 7, 8.37] [9, 8, 17.16] [9, 10, 29.43] [10, 0, 7.02] [10, 1, 38.06] [10, 2, 38.6] [10, 3, 39.26] [10, 4, 17.31] [10, 5, 13.58] [10, 6, 26.37] [10, 7, 31.42] [10, 8, 35.95] [10, 9, 30.48] \n"
     ]
    }
   ],
   "source": [
    "graph = Graph(vertices)\n",
    "print(graph)"
   ]
  },
  {
   "cell_type": "code",
   "execution_count": 12,
   "metadata": {},
   "outputs": [
    {
     "name": "stdout",
     "output_type": "stream",
     "text": [
      "[[10, 0, 7.02], [10, 1, 38.06], [10, 2, 38.6], [10, 3, 39.26], [10, 4, 17.31], [10, 5, 13.58], [10, 6, 26.37], [10, 7, 31.42], [10, 8, 35.95], [10, 9, 30.48]]\n"
     ]
    }
   ],
   "source": [
    "print(graph.get_edges_from_vid(10))"
   ]
  },
  {
   "cell_type": "code",
   "execution_count": 21,
   "metadata": {},
   "outputs": [],
   "source": [
    "'''\n",
    "For the sake of initial testing, I am going to start by going to the first house on the list (ID = 0).\n",
    "Also, the starting time will be that starting time of the vertex we're starting with.\n",
    "    A better starting time can be defined later (i.e. when routing is solved).\n",
    "'''\n",
    "starting_id = 0\n",
    "starting_vertex = graph.get_vertex_from_vid(starting_id)\n",
    "start_time = starting_vertex['start']"
   ]
  },
  {
   "cell_type": "code",
   "execution_count": 30,
   "metadata": {},
   "outputs": [],
   "source": [
    "def visit_next(graph, current_vertex, arrival_time, average_time_at_each_house = 30, visited = []):\n",
    "    idx = current_vertex['ID']\n",
    "    print('Arrived at vertex %d at time %d' % (idx, arrival_time))\n",
    "    visited += [idx]\n",
    "    arrival_time += average_time_at_each_house\n",
    "    \n",
    "    print('Leaving at vertex %d at time %d' % (idx, arrival_time))\n",
    "    \n",
    "    edges = graph.get_edges(current_vertex)\n",
    "    edges_no_cycle = get_acyclic_edges(edges, visited)\n",
    "\n",
    "    print(visited, edges_no_cycle)\n",
    "    \n",
    "\n",
    "def get_acyclic_edges(edges, visited):\n",
    "    E = []\n",
    "    for edge in edges:\n",
    "        idx = edge[1]\n",
    "        if been_visited(visited, idx):\n",
    "            pass\n",
    "        else:\n",
    "            E += [edge]\n",
    "    return E\n",
    "        \n",
    "def been_visited(visited, v):\n",
    "    '''\n",
    "    Checks to make sure you're not going back to a node that has already been visited.\n",
    "    '''\n",
    "    return v in visited"
   ]
  },
  {
   "cell_type": "code",
   "execution_count": 31,
   "metadata": {},
   "outputs": [
    {
     "name": "stdout",
     "output_type": "stream",
     "text": [
      "Arrived at vertex 0 at time 660\n",
      "Leaving at vertex 0 at time 690\n",
      "[0] [[0, 1, 40.45], [0, 2, 40.98], [0, 3, 36.66], [0, 4, 10.72], [0, 5, 19.29], [0, 6, 25.2], [0, 7, 25.56], [0, 8, 28.85], [0, 9, 30.41], [0, 10, 7.08]]\n"
     ]
    }
   ],
   "source": [
    "visit_next(graph, starting_vertex, start_time)"
   ]
  },
  {
   "cell_type": "code",
   "execution_count": null,
   "metadata": {},
   "outputs": [],
   "source": []
  }
 ],
 "metadata": {
  "kernelspec": {
   "display_name": "Python 3",
   "language": "python",
   "name": "python3"
  },
  "language_info": {
   "codemirror_mode": {
    "name": "ipython",
    "version": 3
   },
   "file_extension": ".py",
   "mimetype": "text/x-python",
   "name": "python",
   "nbconvert_exporter": "python",
   "pygments_lexer": "ipython3",
   "version": "3.6.7"
  }
 },
 "nbformat": 4,
 "nbformat_minor": 2
}
